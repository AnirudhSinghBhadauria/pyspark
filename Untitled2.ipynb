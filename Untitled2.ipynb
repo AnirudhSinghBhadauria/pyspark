{
 "cells": [
  {
   "cell_type": "code",
   "execution_count": 18,
   "id": "9d9f903f-c9cb-46a4-9ad5-7bfc1406ff4d",
   "metadata": {},
   "outputs": [
    {
     "name": "stdout",
     "output_type": "stream",
     "text": [
      "CMySQLCursor: (Nothing executed yet)\n"
     ]
    }
   ],
   "source": [
    "import mysql.connector\n",
    " \n",
    "database = mysql.connector.connect(\n",
    "  host=\"localhost\",\n",
    "  user=\"root\",\n",
    "  password=\"root\",\n",
    "  database = 'classicmodels'\n",
    ")\n",
    "\n",
    "c = database.cursor()\n",
    "\n",
    "print(c)"
   ]
  },
  {
   "cell_type": "code",
   "execution_count": 2,
   "id": "ae525e68-facc-40c7-8a5c-80c3c70c9406",
   "metadata": {},
   "outputs": [
    {
     "name": "stdout",
     "output_type": "stream",
     "text": [
      "done for now!\n"
     ]
    }
   ],
   "source": [
    "print('done for now!')"
   ]
  },
  {
   "cell_type": "code",
   "execution_count": null,
   "id": "97029396-5439-493f-a6fb-98b071204465",
   "metadata": {},
   "outputs": [],
   "source": []
  },
  {
   "cell_type": "code",
   "execution_count": null,
   "id": "1e05774c-1650-4f7e-8b9e-f82b5de0124b",
   "metadata": {},
   "outputs": [],
   "source": []
  }
 ],
 "metadata": {
  "kernelspec": {
   "display_name": "Python 3 (ipykernel)",
   "language": "python",
   "name": "python3"
  },
  "language_info": {
   "codemirror_mode": {
    "name": "ipython",
    "version": 3
   },
   "file_extension": ".py",
   "mimetype": "text/x-python",
   "name": "python",
   "nbconvert_exporter": "python",
   "pygments_lexer": "ipython3",
   "version": "3.12.3"
  }
 },
 "nbformat": 4,
 "nbformat_minor": 5
}
