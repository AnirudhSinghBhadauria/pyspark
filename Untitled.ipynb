{
 "cells": [
  {
   "cell_type": "code",
   "execution_count": null,
   "id": "ad1c9132-b93d-473a-9f80-dd0de78f7141",
   "metadata": {},
   "outputs": [],
   "source": [
    "import numpy as np\n",
    "import pandas as pd"
   ]
  },
  {
   "cell_type": "code",
   "execution_count": 10,
   "id": "adcab979-d658-45e6-97c4-4bf2421a4f17",
   "metadata": {},
   "outputs": [],
   "source": [
    "employee_df = pd.read_csv(\"data/titanic.csv\")"
   ]
  },
  {
   "cell_type": "code",
   "execution_count": null,
   "id": "5a766b12-b3c9-49de-941b-6f3457399275",
   "metadata": {},
   "outputs": [],
   "source": [
    "employee_df = employee_df.dropna() \\\n",
    "                        .drop_duplicates() \\\n",
    "                        .drop(columns=['SibSp'])"
   ]
  },
  {
   "cell_type": "code",
   "execution_count": null,
   "id": "82bf01a7-7525-4612-9bca-550cd07f8bab",
   "metadata": {},
   "outputs": [],
   "source": [
    "employee_df.head()"
   ]
  },
  {
   "cell_type": "code",
   "execution_count": null,
   "id": "8c77a059-8ff9-4a4c-bdeb-b47f3d69e5cf",
   "metadata": {},
   "outputs": [],
   "source": [
    "employee_df.columns"
   ]
  },
  {
   "cell_type": "code",
   "execution_count": null,
   "id": "aef5d3e5-fbc3-478f-b850-5a0335b1b49d",
   "metadata": {},
   "outputs": [],
   "source": [
    "employee_df.loc[\n",
    "    (~employee_df['Name'].isna()) &\n",
    "    (employee_df['Sex'] == 'male') &\n",
    "    (employee_df['Age'].isin(list(range(18, 61)))) &\n",
    "    (employee_df['Survived'] == 1)\n",
    "]"
   ]
  },
  {
   "cell_type": "code",
   "execution_count": null,
   "id": "6d15ef87-5ed5-4bb8-b8b0-20f40c154a63",
   "metadata": {},
   "outputs": [],
   "source": [
    "employee_df.rename(columns={\"PassengerId\": \"Passenger_Id\"})"
   ]
  },
  {
   "cell_type": "code",
   "execution_count": null,
   "id": "9abffacc-2221-4fab-bf20-873ae0bc97dc",
   "metadata": {},
   "outputs": [],
   "source": [
    "employee_df.shape"
   ]
  },
  {
   "cell_type": "code",
   "execution_count": null,
   "id": "e104789a-0e77-48fb-b9c4-9846ec06f3ac",
   "metadata": {},
   "outputs": [],
   "source": [
    "employee_df.info()"
   ]
  },
  {
   "cell_type": "code",
   "execution_count": null,
   "id": "8462510c-d46c-45a8-a6ec-10b85d91bf67",
   "metadata": {},
   "outputs": [],
   "source": [
    "employee_df.size"
   ]
  },
  {
   "cell_type": "code",
   "execution_count": null,
   "id": "4a245b33-46d4-4bca-95c8-e21b52bff3d8",
   "metadata": {},
   "outputs": [],
   "source": [
    "employee_df.columns"
   ]
  },
  {
   "cell_type": "code",
   "execution_count": null,
   "id": "0117fc7c-a6ca-4bcc-ba9e-c5a7aa95dc1d",
   "metadata": {},
   "outputs": [],
   "source": [
    "employee_df.set_index(\"PassengerId\")"
   ]
  },
  {
   "cell_type": "code",
   "execution_count": null,
   "id": "d1db9c78-f95e-4fc7-b6d0-865d65554823",
   "metadata": {},
   "outputs": [],
   "source": [
    "np.linspace(1, 100, 10).reshape(2, 5)"
   ]
  },
  {
   "cell_type": "code",
   "execution_count": null,
   "id": "a0378168-31f7-4566-8618-2f1cf9554ce6",
   "metadata": {},
   "outputs": [],
   "source": [
    "np.arange(1, 100, 10).reshape(2, 5)"
   ]
  },
  {
   "cell_type": "code",
   "execution_count": null,
   "id": "fac2c42d-3a68-4b54-84c1-bc3af28d658c",
   "metadata": {},
   "outputs": [],
   "source": [
    "np.linspace(1, 100, 12).reshape(2, 2, 3)"
   ]
  },
  {
   "cell_type": "code",
   "execution_count": 11,
   "id": "6dbb6cf9-a95e-47d5-a6be-b51705b0bab3",
   "metadata": {},
   "outputs": [
    {
     "name": "stdout",
     "output_type": "stream",
     "text": [
      "done\n"
     ]
    }
   ],
   "source": [
    "print(\"done\")"
   ]
  },
  {
   "cell_type": "code",
   "execution_count": null,
   "id": "b2663ffc-e6cd-4f49-b307-bf6afaf9d575",
   "metadata": {},
   "outputs": [],
   "source": []
  },
  {
   "cell_type": "code",
   "execution_count": null,
   "id": "762ac631-7866-4ac7-a74f-2805446e9acc",
   "metadata": {},
   "outputs": [],
   "source": []
  },
  {
   "cell_type": "code",
   "execution_count": null,
   "id": "b069d8b2-e4dd-46e7-8091-7d95d6f409ce",
   "metadata": {},
   "outputs": [],
   "source": []
  },
  {
   "cell_type": "code",
   "execution_count": null,
   "id": "6f8e6c90-29b0-4ea4-93ff-63f0a51a53cf",
   "metadata": {},
   "outputs": [],
   "source": []
  }
 ],
 "metadata": {
  "kernelspec": {
   "display_name": "Python 3 (ipykernel)",
   "language": "python",
   "name": "python3"
  },
  "language_info": {
   "codemirror_mode": {
    "name": "ipython",
    "version": 3
   },
   "file_extension": ".py",
   "mimetype": "text/x-python",
   "name": "python",
   "nbconvert_exporter": "python",
   "pygments_lexer": "ipython3",
   "version": "3.12.3"
  }
 },
 "nbformat": 4,
 "nbformat_minor": 5
}
