{
 "cells": [
  {
   "cell_type": "code",
   "execution_count": 16,
   "id": "ad1c9132-b93d-473a-9f80-dd0de78f7141",
   "metadata": {},
   "outputs": [],
   "source": [
    "import pandas as pd\n",
    "import numpy as np"
   ]
  },
  {
   "cell_type": "code",
   "execution_count": null,
   "id": "adcab979-d658-45e6-97c4-4bf2421a4f17",
   "metadata": {},
   "outputs": [],
   "source": [
    "employee_df = pd.read_csv(\"data/titanic.csv\")"
   ]
  },
  {
   "cell_type": "code",
   "execution_count": null,
   "id": "5a766b12-b3c9-49de-941b-6f3457399275",
   "metadata": {},
   "outputs": [],
   "source": [
    "employee_df = employee_df.dropna() \\\n",
    "                        .drop_duplicates() \\\n",
    "                        .drop(columns=['SibSp'])"
   ]
  },
  {
   "cell_type": "code",
   "execution_count": null,
   "id": "82bf01a7-7525-4612-9bca-550cd07f8bab",
   "metadata": {},
   "outputs": [],
   "source": [
    "employee_df.head()"
   ]
  },
  {
   "cell_type": "code",
   "execution_count": null,
   "id": "8c77a059-8ff9-4a4c-bdeb-b47f3d69e5cf",
   "metadata": {},
   "outputs": [],
   "source": [
    "employee_df.columns"
   ]
  },
  {
   "cell_type": "code",
   "execution_count": null,
   "id": "aef5d3e5-fbc3-478f-b850-5a0335b1b49d",
   "metadata": {},
   "outputs": [],
   "source": [
    "employee_df.loc[\n",
    "    (~employee_df['Name'].isna()) &\n",
    "    (employee_df['Sex'] == 'male') &\n",
    "    (employee_df['Age'].isin(list(range(18, 61)))) &\n",
    "    (employee_df['Survived'] == 1)\n",
    "]"
   ]
  },
  {
   "cell_type": "code",
   "execution_count": null,
   "id": "6d15ef87-5ed5-4bb8-b8b0-20f40c154a63",
   "metadata": {},
   "outputs": [],
   "source": [
    "employee_df.rename(columns={\"PassengerId\": \"Passenger_Id\"})"
   ]
  },
  {
   "cell_type": "code",
   "execution_count": null,
   "id": "9abffacc-2221-4fab-bf20-873ae0bc97dc",
   "metadata": {},
   "outputs": [],
   "source": [
    "employee_df.head()"
   ]
  },
  {
   "cell_type": "code",
   "execution_count": 14,
   "id": "037ca064-840f-4428-90a2-5a2d896e2da8",
   "metadata": {},
   "outputs": [
    {
     "data": {
      "text/plain": [
       "Index(['PassengerId', 'Survived', 'Pclass', 'Name', 'Sex', 'Age', 'Parch',\n",
       "       'Ticket', 'Fare', 'Cabin', 'Embarked'],\n",
       "      dtype='object')"
      ]
     },
     "execution_count": 14,
     "metadata": {},
     "output_type": "execute_result"
    }
   ],
   "source": [
    "employee_df.columns"
   ]
  },
  {
   "cell_type": "code",
   "execution_count": 3,
   "id": "e8d3bfab-a0c0-4a9c-88a9-f98408fcce15",
   "metadata": {},
   "outputs": [],
   "source": [
    "name = 'anirudh'"
   ]
  },
  {
   "cell_type": "code",
   "execution_count": 4,
   "id": "338e9a5f-011c-4b15-82d4-5c87171a9355",
   "metadata": {},
   "outputs": [
    {
     "data": {
      "text/plain": [
       "\u001b[1;31mType:\u001b[0m        str\n",
       "\u001b[1;31mString form:\u001b[0m anirudh\n",
       "\u001b[1;31mLength:\u001b[0m      7\n",
       "\u001b[1;31mDocstring:\u001b[0m  \n",
       "str(object='') -> str\n",
       "str(bytes_or_buffer[, encoding[, errors]]) -> str\n",
       "\n",
       "Create a new string object from the given object. If encoding or\n",
       "errors is specified, then the object must expose a data buffer\n",
       "that will be decoded using the given encoding and error handler.\n",
       "Otherwise, returns the result of object.__str__() (if defined)\n",
       "or repr(object).\n",
       "encoding defaults to sys.getdefaultencoding().\n",
       "errors defaults to 'strict'."
      ]
     },
     "metadata": {},
     "output_type": "display_data"
    }
   ],
   "source": [
    "name?    "
   ]
  },
  {
   "cell_type": "code",
   "execution_count": 28,
   "id": "b2ead0a2-d0cb-4506-8b44-1bc16ea57c8b",
   "metadata": {},
   "outputs": [],
   "source": [
    "from datetime import datetime, timedelta"
   ]
  },
  {
   "cell_type": "code",
   "execution_count": 1,
   "id": "a33182cf-d63d-4607-b7b6-237e34edf075",
   "metadata": {},
   "outputs": [
    {
     "name": "stdout",
     "output_type": "stream",
     "text": [
      "done that been there\n"
     ]
    }
   ],
   "source": [
    "print(\"done that been there\")"
   ]
  },
  {
   "cell_type": "code",
   "execution_count": null,
   "id": "00694cf6-9f0d-4629-8488-4dd5ad46c4a8",
   "metadata": {},
   "outputs": [],
   "source": []
  }
 ],
 "metadata": {
  "kernelspec": {
   "display_name": "Python 3 (ipykernel)",
   "language": "python",
   "name": "python3"
  },
  "language_info": {
   "codemirror_mode": {
    "name": "ipython",
    "version": 3
   },
   "file_extension": ".py",
   "mimetype": "text/x-python",
   "name": "python",
   "nbconvert_exporter": "python",
   "pygments_lexer": "ipython3",
   "version": "3.12.3"
  }
 },
 "nbformat": 4,
 "nbformat_minor": 5
}
