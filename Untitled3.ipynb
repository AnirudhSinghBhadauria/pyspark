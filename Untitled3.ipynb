{
 "cells": [
  {
   "cell_type": "code",
   "execution_count": 12,
   "id": "be4d2470-ef28-439e-bb0a-24031bd0fa47",
   "metadata": {},
   "outputs": [],
   "source": [
    "filename = 'BuildingaPCUs%56uCjW56HWI%20241125180527'"
   ]
  },
  {
   "cell_type": "code",
   "execution_count": 13,
   "id": "ee64e154-fb79-42b3-9472-d5ad560bac8a",
   "metadata": {},
   "outputs": [
    {
     "data": {
      "text/plain": [
       "['BuildingaPCUs', '56uCjW56HWI', '20241125180527']"
      ]
     },
     "execution_count": 13,
     "metadata": {},
     "output_type": "execute_result"
    }
   ],
   "source": [
    "filename.split(\"%\")"
   ]
  },
  {
   "cell_type": "code",
   "execution_count": 14,
   "id": "f6b13926-9328-4b16-8c5a-8d2902426f31",
   "metadata": {},
   "outputs": [
    {
     "data": {
      "text/plain": [
       "40"
      ]
     },
     "execution_count": 14,
     "metadata": {},
     "output_type": "execute_result"
    }
   ],
   "source": [
    "len(filename)"
   ]
  },
  {
   "cell_type": "code",
   "execution_count": 15,
   "id": "13879693-34df-430d-b048-770f2b6a55c5",
   "metadata": {},
   "outputs": [],
   "source": [
    "modified_filename = 'part9'.join(filename.split(\"%\"))"
   ]
  },
  {
   "cell_type": "code",
   "execution_count": 16,
   "id": "9393f6b0-2dbe-42b2-938d-5cbd396c248a",
   "metadata": {},
   "outputs": [
    {
     "data": {
      "text/plain": [
       "'BuildingaPCUspart956uCjW56HWIpart920241125180527'"
      ]
     },
     "execution_count": 16,
     "metadata": {},
     "output_type": "execute_result"
    }
   ],
   "source": [
    "modified_filename"
   ]
  },
  {
   "cell_type": "code",
   "execution_count": 18,
   "id": "a7b36140-0c64-492d-88a2-1897f6c7530b",
   "metadata": {},
   "outputs": [
    {
     "data": {
      "text/plain": [
       "48"
      ]
     },
     "execution_count": 18,
     "metadata": {},
     "output_type": "execute_result"
    }
   ],
   "source": [
    "len(modified_filename)"
   ]
  },
  {
   "cell_type": "code",
   "execution_count": 17,
   "id": "4af931e9-fa25-4050-a318-7386336d87be",
   "metadata": {},
   "outputs": [
    {
     "data": {
      "text/plain": [
       "['BuildingaPCUs', '56uCjW56HWI', '20241125180527']"
      ]
     },
     "execution_count": 17,
     "metadata": {},
     "output_type": "execute_result"
    }
   ],
   "source": [
    "modified_filename.split(\"part9\")"
   ]
  },
  {
   "cell_type": "code",
   "execution_count": 2,
   "id": "1f564883-fe3a-4cc1-9435-3edf97384cd5",
   "metadata": {},
   "outputs": [
    {
     "name": "stdout",
     "output_type": "stream",
     "text": [
      "done this for things\n"
     ]
    }
   ],
   "source": [
    "print('done this for things okay!')"
   ]
  },
  {
   "cell_type": "code",
   "execution_count": 11,
   "id": "6e23f8b8-39e1-4518-980b-fb8d0e3f2fe8",
   "metadata": {},
   "outputs": [],
   "source": [
    "data = [\n",
    "    {\n",
    "        \"name\": \"aniruhd\",\n",
    "        \"age\": 56,\n",
    "        \"date\": \"12/12/2002\"\n",
    "    },\n",
    "    {\n",
    "        \"name\": \"devansh\",\n",
    "        \"age\": 60,\n",
    "        \"date\": \"10/10/2002\"\n",
    "    },\n",
    "    {\n",
    "        \"name\": \"arpit\",\n",
    "        \"age\": 9,\n",
    "        \"date\": \"09/09/2002\"\n",
    "    },\n",
    "]"
   ]
  },
  {
   "cell_type": "code",
   "execution_count": 12,
   "id": "720f6db0-a7b2-4a93-b9e2-5e1eb7ec759a",
   "metadata": {},
   "outputs": [
    {
     "data": {
      "text/plain": [
       "[{'name': 'aniruhd', 'age': 56, 'date': '12/12/2002'},\n",
       " {'name': 'devansh', 'age': 60, 'date': '10/10/2002'},\n",
       " {'name': 'arpit', 'age': 9, 'date': '09/09/2002'}]"
      ]
     },
     "execution_count": 12,
     "metadata": {},
     "output_type": "execute_result"
    }
   ],
   "source": [
    "sorted(data, key = lambda number: number[\"date\"], reverse=True)"
   ]
  },
  {
   "cell_type": "code",
   "execution_count": 8,
   "id": "f9be8b95-783f-4283-9072-0071dbe71e5c",
   "metadata": {},
   "outputs": [],
   "source": [
    "data1 = [23, 45, 1]"
   ]
  },
  {
   "cell_type": "code",
   "execution_count": 10,
   "id": "8f6246a7-2954-4687-b5eb-d42790eb99fd",
   "metadata": {},
   "outputs": [
    {
     "data": {
      "text/plain": [
       "[45, 23, 1]"
      ]
     },
     "execution_count": 10,
     "metadata": {},
     "output_type": "execute_result"
    }
   ],
   "source": [
    "sorted(data1, reverse = True)"
   ]
  },
  {
   "cell_type": "code",
   "execution_count": 13,
   "id": "4e1c25e5-b9ed-42c1-bb0d-57d432c9353a",
   "metadata": {},
   "outputs": [],
   "source": [
    "date_thing = '12/02/2024'"
   ]
  },
  {
   "cell_type": "code",
   "execution_count": 16,
   "id": "fbe0748d-3b5d-42d4-a5ad-8d106c37d593",
   "metadata": {},
   "outputs": [
    {
     "data": {
      "text/plain": [
       "datetime.datetime(2024, 2, 12, 0, 0)"
      ]
     },
     "execution_count": 16,
     "metadata": {},
     "output_type": "execute_result"
    }
   ],
   "source": [
    "from datetime import datetime\n",
    "\n",
    "datetime.strptime(date_thing, \"%d/%m/%Y\")"
   ]
  },
  {
   "cell_type": "code",
   "execution_count": 17,
   "id": "207ac667-015f-438b-803a-6e9b56bb33fe",
   "metadata": {},
   "outputs": [],
   "source": [
    "def fibonacci(number):\n",
    "    sequence = [0, 1]\n",
    "\n",
    "    while len(sequence) < number:\n",
    "        sequence.append(sequence[-1] + sequence[-2])\n",
    "    \n",
    "    return sequence"
   ]
  },
  {
   "cell_type": "code",
   "execution_count": 19,
   "id": "771c02e0-bb88-4a57-b061-92d83f28b974",
   "metadata": {},
   "outputs": [
    {
     "data": {
      "text/plain": [
       "[0, 1, 1, 2, 3, 5, 8, 13, 21, 34]"
      ]
     },
     "execution_count": 19,
     "metadata": {},
     "output_type": "execute_result"
    }
   ],
   "source": [
    "fibonacci(10)"
   ]
  },
  {
   "cell_type": "code",
   "execution_count": 25,
   "id": "0869688d-9676-4188-a94e-f5cfcafa93db",
   "metadata": {},
   "outputs": [],
   "source": [
    "def armstrong(number):\n",
    "    num_digit = len(str(number))\n",
    "    total_sum = sum([int(num) ** num_digit for num in str(number)])\n",
    "\n",
    "    return number == total_sum"
   ]
  },
  {
   "cell_type": "code",
   "execution_count": 26,
   "id": "8d9c8943-baf3-4d7a-8fa2-f9d7769b3f1f",
   "metadata": {},
   "outputs": [
    {
     "data": {
      "text/plain": [
       "False"
      ]
     },
     "execution_count": 26,
     "metadata": {},
     "output_type": "execute_result"
    }
   ],
   "source": [
    "armstrong(56)"
   ]
  },
  {
   "cell_type": "code",
   "execution_count": 27,
   "id": "8d71f23c-c6d0-4e36-b930-3f25a73f349d",
   "metadata": {},
   "outputs": [],
   "source": [
    "def palindrome(text): return text == text[::-1]"
   ]
  },
  {
   "cell_type": "code",
   "execution_count": 29,
   "id": "941752e8-ab76-43ea-8752-a11be2bff062",
   "metadata": {},
   "outputs": [
    {
     "data": {
      "text/plain": [
       "True"
      ]
     },
     "execution_count": 29,
     "metadata": {},
     "output_type": "execute_result"
    }
   ],
   "source": [
    "palindrome(\"naman\")"
   ]
  },
  {
   "cell_type": "code",
   "execution_count": 30,
   "id": "e5de130a-b179-416a-adec-491205157114",
   "metadata": {},
   "outputs": [],
   "source": [
    "def leapyear(year):\n",
    "    if year % 4 == 0:\n",
    "        if year % 100 == 0:\n",
    "            if year % 400 == 0:\n",
    "                return True\n",
    "            else:\n",
    "                return False\n",
    "        else:\n",
    "            return True\n",
    "    else:\n",
    "        return False"
   ]
  },
  {
   "cell_type": "code",
   "execution_count": 31,
   "id": "5280cc45-5a45-482c-bbdc-ec48043f3e15",
   "metadata": {},
   "outputs": [
    {
     "data": {
      "text/plain": [
       "True"
      ]
     },
     "execution_count": 31,
     "metadata": {},
     "output_type": "execute_result"
    }
   ],
   "source": [
    "leapyear(2024)"
   ]
  },
  {
   "cell_type": "code",
   "execution_count": 33,
   "id": "7873d2f5-a632-486e-883b-97a459acd7be",
   "metadata": {},
   "outputs": [],
   "source": [
    "def quicksort(arr):\n",
    "    if len(arr) < 1: return arr\n",
    "\n",
    "    pivot = arr[len(arr) // 2]\n",
    "    left = [element for element in arr if element < pivot]\n",
    "    right = [element for element in arr if element > pivot]\n",
    "\n",
    "    return quicksort(left) + [pivot] + quicksort(right)"
   ]
  },
  {
   "cell_type": "code",
   "execution_count": 36,
   "id": "7d45351b-78f7-42d4-a64f-216e007bc3ea",
   "metadata": {},
   "outputs": [
    {
     "data": {
      "text/plain": [
       "[-1, 0, 12]"
      ]
     },
     "execution_count": 36,
     "metadata": {},
     "output_type": "execute_result"
    }
   ],
   "source": [
    "quicksort([0, 12, -1])"
   ]
  },
  {
   "cell_type": "code",
   "execution_count": 48,
   "id": "1670c462-bcd2-454f-92b4-9923904a082f",
   "metadata": {},
   "outputs": [],
   "source": [
    "def print_decorator(func):\n",
    "    def wrapper(*args, **kwargs):\n",
    "        print(\"Welcome to the thing!\")\n",
    "        func(*args, **kwargs)\n",
    "\n",
    "    return wrapper"
   ]
  },
  {
   "cell_type": "code",
   "execution_count": 49,
   "id": "dc5fa495-d8ff-410f-84a2-b6f9660faa2c",
   "metadata": {},
   "outputs": [
    {
     "name": "stdout",
     "output_type": "stream",
     "text": [
      "Welcome to the thing!\n",
      "this is my name: anriudh\n"
     ]
    }
   ],
   "source": [
    "@print_decorator\n",
    "def print_name(name):\n",
    "    print(f\"this is my name: {name}\")\n",
    "\n",
    "print_name('anriudh')"
   ]
  },
  {
   "cell_type": "code",
   "execution_count": 51,
   "id": "74353269-013b-4ec1-b70b-7a4539babd2c",
   "metadata": {},
   "outputs": [],
   "source": [
    "number = 112356"
   ]
  },
  {
   "cell_type": "code",
   "execution_count": 57,
   "id": "87a0896c-1363-46c2-a4ce-fda0bd6da17e",
   "metadata": {},
   "outputs": [],
   "source": [
    "def done(number):\n",
    "    unique_value = ''\n",
    "\n",
    "    for num in str(number):\n",
    "        if str(num) not in unique_value:\n",
    "            unique_value += str(num)\n",
    "    \n",
    "    return int(unique_value)"
   ]
  },
  {
   "cell_type": "code",
   "execution_count": 58,
   "id": "455a1cd5-864a-4dd6-ba66-f29bf846ca46",
   "metadata": {},
   "outputs": [
    {
     "data": {
      "text/plain": [
       "12356"
      ]
     },
     "execution_count": 58,
     "metadata": {},
     "output_type": "execute_result"
    }
   ],
   "source": [
    "done(number)"
   ]
  },
  {
   "cell_type": "code",
   "execution_count": 69,
   "id": "428c6514-dbe8-4abc-b9ed-d5b1b00a3857",
   "metadata": {},
   "outputs": [
    {
     "data": {
      "text/plain": [
       "'anriudhsinghbhadauria'"
      ]
     },
     "execution_count": 69,
     "metadata": {},
     "output_type": "execute_result"
    }
   ],
   "source": [
    "text.replace(\" \", \"\")"
   ]
  },
  {
   "cell_type": "code",
   "execution_count": 75,
   "id": "af534dd1-4edd-4994-9031-180109a44569",
   "metadata": {},
   "outputs": [],
   "source": [
    "data = [12, 3, 56, 78]\n",
    "\n",
    "def quicksort(arr):\n",
    "    if len(arr) < 1: return arr\n",
    "\n",
    "    pivot = arr[len(arr) // 2]\n",
    "    left = [element for element in arr if element < pivot]\n",
    "    right = [element for element in arr if element > pivot]\n",
    "\n",
    "    return quicksort(left) + [pivot] + quicksort(right)"
   ]
  },
  {
   "cell_type": "code",
   "execution_count": 76,
   "id": "27a287e9-e456-440e-a580-d993cd4fc9c6",
   "metadata": {},
   "outputs": [
    {
     "data": {
      "text/plain": [
       "[3, 12, 56, 78]"
      ]
     },
     "execution_count": 76,
     "metadata": {},
     "output_type": "execute_result"
    }
   ],
   "source": [
    "quicksort(data)"
   ]
  },
  {
   "cell_type": "code",
   "execution_count": 77,
   "id": "ed13c5f2-b7fc-4d4d-8e14-bb3ae3b6bcd2",
   "metadata": {},
   "outputs": [],
   "source": [
    "def armstrong(number):\n",
    "    num_digit = len(str(number))\n",
    "    sum_digit = sum([int(num) ** num_digit for num in str(number)])\n",
    "\n",
    "    return sum_digit == num_digit"
   ]
  },
  {
   "cell_type": "code",
   "execution_count": 78,
   "id": "ac7309f1-a1c8-446e-b080-09c79b7f676e",
   "metadata": {},
   "outputs": [
    {
     "data": {
      "text/plain": [
       "False"
      ]
     },
     "execution_count": 78,
     "metadata": {},
     "output_type": "execute_result"
    }
   ],
   "source": [
    "armstrong(153)"
   ]
  },
  {
   "cell_type": "code",
   "execution_count": null,
   "id": "05406502-ba09-45b0-93b1-ab215372bf7f",
   "metadata": {},
   "outputs": [],
   "source": [
    "def fibonacci(number):\n",
    "    sequence = [0, 1]\n",
    "    \n",
    "    while len(sequence) < number:\n",
    "        sequence.append(sequence[-1] + sequence[-2])\n",
    "\n",
    "    return number"
   ]
  },
  {
   "cell_type": "code",
   "execution_count": null,
   "id": "1775dd25-a78f-42b4-91ba-9fe5e9961155",
   "metadata": {},
   "outputs": [],
   "source": []
  }
 ],
 "metadata": {
  "kernelspec": {
   "display_name": "Python 3 (ipykernel)",
   "language": "python",
   "name": "python3"
  },
  "language_info": {
   "codemirror_mode": {
    "name": "ipython",
    "version": 3
   },
   "file_extension": ".py",
   "mimetype": "text/x-python",
   "name": "python",
   "nbconvert_exporter": "python",
   "pygments_lexer": "ipython3",
   "version": "3.12.3"
  }
 },
 "nbformat": 4,
 "nbformat_minor": 5
}
