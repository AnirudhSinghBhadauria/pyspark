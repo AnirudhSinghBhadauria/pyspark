{
 "cells": [
  {
   "cell_type": "code",
<<<<<<< HEAD
   "execution_count": 166,
=======
   "execution_count": 3,
>>>>>>> 9789244a93a0b824d4b8fcdce40b1e299241d513
   "id": "346bf6cf-bd1f-4b7f-aa10-ebbb894c6899",
   "metadata": {},
   "outputs": [],
   "source": [
    "import time\n",
    "import requests\n",
    "import pandas as pd\n",
    "from datetime import datetime\n",
    "from bs4 import BeautifulSoup\n",
    "from selenium import webdriver\n",
    "from datetime import timedelta"
   ]
  },
  {
   "cell_type": "code",
   "execution_count": null,
   "id": "11a0fda2-8ce3-40eb-9d87-121f8e88d18c",
   "metadata": {},
   "outputs": [],
   "source": [
    "url = \"https://www.reddit.com/r/CryptoCurrency/\"\n",
    "\n",
    "data = {\"message\": [], \"date\": [], \"time\": []}\n",
    "\n",
    "try:\n",
    "    req = requests.get(url)\n",
    "    timestamp = datetime.now()\n",
    "\n",
    "    if req.status_code == 200:\n",
    "        soup = BeautifulSoup(req.content, 'html.parser')\n",
    "\n",
    "        links = soup.find_all(\n",
    "            'a', class_='block font-semibold text-neutral-content-strong m-0 visited:text-neutral-content-weak text-16 xs:text-18 mb-2xs xs:mb-xs'\n",
    "        )\n",
    "\n",
    "        if links:\n",
    "            for link in links:\n",
    "                text = link.get_text().strip()\n",
    "\n",
    "                data['message'].append(text)\n",
    "                data['date'].append(datetime.strftime(timestamp, \"%dth %b, %Y\"))\n",
    "                data['time'].append(datetime.strftime(timestamp, \"%I:%M:%S %p\"))\n",
    "        else:\n",
    "            print(\"No links found.\")\n",
    "    else:\n",
    "        print(f\"Failed to retrieve the page. Status code: {req.status_code}\")\n",
    "except requests.exceptions.RequestException as error:\n",
    "    print(f\"An error occurred: {error}\")"
   ]
  },
  {
   "cell_type": "code",
   "execution_count": null,
   "id": "c62c57fa-d0db-4bd4-911c-566283c3a704",
   "metadata": {},
   "outputs": [],
   "source": [
    "data_df = pd.DataFrame(data)"
   ]
  },
  {
   "cell_type": "code",
   "execution_count": null,
   "id": "38544af6-593e-4785-adc6-800e19780fad",
   "metadata": {},
   "outputs": [],
   "source": [
    "data_df"
   ]
  },
  {
   "cell_type": "code",
   "execution_count": null,
   "id": "3ee44704-0e49-48cf-a98c-1839b4fac53f",
   "metadata": {},
   "outputs": [],
   "source": [
    "product_items = soup.select(\"a.block font-semibold text-neutral-content-strong m-0 visited:text-neutral-content-weak text-16 xs:text-18 mb-2xs xs:mb-xs[slot]\")"
   ]
  },
  {
   "cell_type": "code",
   "execution_count": null,
   "id": "dfa5a150-4ec4-46b5-9b62-75675d9e07f5",
   "metadata": {},
   "outputs": [],
   "source": [
    "url = \"https://www.reddit.com/r/CryptoCurrency/\"\n",
    "response = requests.get(url)\n",
    "\n",
    "soup = BeautifulSoup(response.content, \"html.parser\")\n",
    "\n",
    "tooltips = soup.find_all(\"a\", attrs={\"slot\": \"title\"})\n",
    "\n",
    "for tooltip in tooltips:\n",
    "  print(tooltip.get_text().strip())"
   ]
  },
  {
   "cell_type": "code",
   "execution_count": 5,
   "id": "57ed5919-46f9-498c-b749-b11b1252f4bd",
   "metadata": {},
   "outputs": [],
   "source": [
    "timestamp = datetime.now()\n",
    "run_time = timestamp + timedelta(minutes = 10)\n",
    "data = {\"message\": [], \"date\": [], \"time\": []}\n",
    "\n",
    "driver = webdriver.Chrome()  \n",
    "\n",
    "url = \"https://www.reddit.com/r/CryptoCurrency/\"\n",
    "driver.get(url)\n",
    "\n",
    "scroll_pause_time = 5\n",
    "screen_height = driver.execute_script(\"return window.screen.height;\") \n",
    "\n",
    "i = 1\n",
    "while True:\n",
    "    driver.execute_script(f\"window.scrollTo(0, {screen_height * i});\")\n",
    "    i += 1\n",
    "    time.sleep(scroll_pause_time)\n",
    "\n",
    "    scroll_height = driver.execute_script(\"return document.body.scrollHeight;\")\n",
    "    if datetime.now() >= run_time:\n",
    "        break\n",
    "\n",
    "soup = BeautifulSoup(driver.page_source, \"html.parser\")\n",
    "tooltips = soup.find_all(\"a\", attrs={\"slot\": \"title\"})\n",
    "\n",
    "for tooltip in tooltips:\n",
    "    data['message'].append(tooltip.get_text().strip())\n",
    "    data['date'].append(datetime.strftime(timestamp, \"%dth %b, %Y\"))\n",
    "    data['time'].append(datetime.strftime(timestamp, \"%I:%M:%S %p\"))\n",
    "\n",
    "driver.quit()\n",
    "\n",
    "data_df = pd.DataFrame(data)\n",
    "data_df.to_csv(\"data/crypto.csv\", index=False, header=True)"
   ]
  },
  {
   "cell_type": "code",
   "execution_count": 156,
   "id": "cada571b-cb77-4379-903e-4ba08f96ff2e",
   "metadata": {},
   "outputs": [
    {
     "data": {
      "text/plain": [
       "True"
      ]
     },
     "execution_count": 156,
     "metadata": {},
     "output_type": "execute_result"
    }
   ],
   "source": [
    "timestamp = datetime.now()\n",
    "timedeltad = timestamp + timedelta(minutes = 0)\n",
    "timestamp == timedeltad"
   ]
  },
  {
   "cell_type": "code",
   "execution_count": 171,
   "id": "d1e58546-27fc-47f0-a065-7eb6467326d3",
   "metadata": {},
   "outputs": [
    {
     "data": {
      "text/plain": [
       "'23/09/2024'"
      ]
     },
     "execution_count": 171,
     "metadata": {},
     "output_type": "execute_result"
    }
   ],
   "source": [
    "datetime.strftime(datetime.now() + timedelta(minutes=30), \"%d/%m/%Y\")"
   ]
  }
 ],
 "metadata": {
  "kernelspec": {
   "display_name": "Python 3 (ipykernel)",
   "language": "python",
   "name": "python3"
  },
  "language_info": {
   "codemirror_mode": {
    "name": "ipython",
    "version": 3
   },
   "file_extension": ".py",
   "mimetype": "text/x-python",
   "name": "python",
   "nbconvert_exporter": "python",
   "pygments_lexer": "ipython3",
   "version": "3.12.3"
  }
 },
 "nbformat": 4,
 "nbformat_minor": 5
}
