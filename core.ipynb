{
 "cells": [
  {
   "cell_type": "code",
   "execution_count": null,
   "id": "bf329824-a221-44f2-86dd-838ea613457e",
   "metadata": {},
   "outputs": [],
   "source": [
    "import numpy as np"
   ]
  },
  {
   "cell_type": "code",
   "execution_count": null,
   "id": "a2408711-5b0e-4af9-9f43-238bb28980ca",
   "metadata": {},
   "outputs": [],
   "source": [
    "core = np.round(np.linspace(0, 1, 10).reshape(2, 5), 2)"
   ]
  },
  {
   "cell_type": "code",
   "execution_count": null,
   "id": "942e3b3c-5f02-4312-ba4d-bae5159ce1c2",
   "metadata": {},
   "outputs": [],
   "source": [
    "core.astype(\"float64\")"
   ]
  },
  {
   "cell_type": "code",
   "execution_count": null,
   "id": "d1c6d8e0-dcdb-4b0b-9bc3-91509b700b5c",
   "metadata": {},
   "outputs": [],
   "source": [
    "# Memory location of a nd Array\n",
    "\n",
    "core.data"
   ]
  },
  {
   "cell_type": "code",
   "execution_count": null,
   "id": "56103003-f484-41ba-8b8e-b764d104276b",
   "metadata": {},
   "outputs": [],
   "source": [
    "np.eye(10, k = 1)"
   ]
  },
  {
   "cell_type": "code",
   "execution_count": null,
   "id": "80165c15-50a8-4993-a664-2f4cd6d7e1a8",
   "metadata": {},
   "outputs": [],
   "source": [
    "np.identity(10)"
   ]
  },
  {
   "cell_type": "code",
   "execution_count": null,
   "id": "bc726415-30df-48fe-ade7-957e7bc96769",
   "metadata": {},
   "outputs": [],
   "source": [
    "np.int32(core)"
   ]
  },
  {
   "cell_type": "code",
   "execution_count": null,
   "id": "143797b1-0d64-4a33-9a2b-bdba738bf912",
   "metadata": {},
   "outputs": [],
   "source": [
    "core"
   ]
  },
  {
   "cell_type": "code",
   "execution_count": null,
   "id": "8f9534fd-f344-4989-a4bb-c49de8da183a",
   "metadata": {},
   "outputs": [],
   "source": [
    "[core[0, 0], core[1, 1]]"
   ]
  },
  {
   "cell_type": "code",
   "execution_count": null,
   "id": "8bd47e67-d37c-4e28-a37d-2e8fb9f4998a",
   "metadata": {},
   "outputs": [],
   "source": [
    "np.round(np.random.rand(10).reshape(5, 2), 2)"
   ]
  },
  {
   "cell_type": "code",
   "execution_count": null,
   "id": "c2fc77fe-60bd-472c-97c6-a066bbf63b58",
   "metadata": {},
   "outputs": [],
   "source": [
    "np.random.choice(core.flatten())"
   ]
  },
  {
   "cell_type": "code",
   "execution_count": null,
   "id": "184d124d-3a6f-41d9-b8df-b1a873a5f8b3",
   "metadata": {},
   "outputs": [],
   "source": [
    "np.random.rand(10).reshape(2 ,5)"
   ]
  },
  {
   "cell_type": "code",
   "execution_count": null,
   "id": "70596487-1e6a-4add-98e1-c3fa364aac2d",
   "metadata": {},
   "outputs": [],
   "source": [
    "core.flatten()"
   ]
  },
  {
   "cell_type": "code",
   "execution_count": null,
   "id": "051de709-722e-4dd8-8fab-b5130b6de01a",
   "metadata": {},
   "outputs": [],
   "source": [
    "core.ravel()"
   ]
  },
  {
   "cell_type": "code",
   "execution_count": null,
   "id": "84c3ec06-48cc-47bf-954d-547ed3e519e8",
   "metadata": {},
   "outputs": [],
   "source": [
    "core.resize(2, 5)"
   ]
  },
  {
   "cell_type": "code",
   "execution_count": null,
   "id": "7ca254fc-833f-41db-b6f2-8a3d265e3bf4",
   "metadata": {},
   "outputs": [],
   "source": [
    "core.shape"
   ]
  },
  {
   "cell_type": "code",
   "execution_count": null,
   "id": "a8eeb478-3d8d-4a46-bc3d-81713f44f3b3",
   "metadata": {},
   "outputs": [],
   "source": [
    "main = np.round(np.linspace(1, 10, 10).reshape(2, 5), 2)"
   ]
  },
  {
   "cell_type": "code",
   "execution_count": null,
   "id": "cacb49f7-2da4-4d1e-a64c-a87098cee78a",
   "metadata": {},
   "outputs": [],
   "source": [
    "main"
   ]
  },
  {
   "cell_type": "code",
   "execution_count": null,
   "id": "263d9463-b99c-48e5-b755-b51e874931d1",
   "metadata": {},
   "outputs": [],
   "source": [
    "huge = np.round(np.linspace(1, 100, 1000), 2).reshape(10, 100)"
   ]
  },
  {
   "cell_type": "code",
   "execution_count": null,
   "id": "e8e45d59-7a24-4986-9b69-3983ea8c79b6",
   "metadata": {},
   "outputs": [],
   "source": [
    "np.vsplit(huge, 10)"
   ]
  },
  {
   "cell_type": "code",
   "execution_count": null,
   "id": "8ab2668c-9d14-488d-81b5-ad6dad4a0a98",
   "metadata": {},
   "outputs": [],
   "source": [
    "np.hsplit(huge, 10)"
   ]
  },
  {
   "cell_type": "code",
   "execution_count": null,
   "id": "28f7d720-e82f-4861-9e9b-324e305f3a47",
   "metadata": {},
   "outputs": [],
   "source": [
    "np.round(np.random.rand(100).reshape(2, 5, 10), 2)"
   ]
  },
  {
   "cell_type": "code",
   "execution_count": null,
   "id": "8223ee16-0e4f-42e9-b420-f81f9d011f04",
   "metadata": {},
   "outputs": [],
   "source": [
    "sorted_main = main.ravel().astype(\"int64\")"
   ]
  },
  {
   "cell_type": "code",
   "execution_count": null,
   "id": "dacb968e-ee43-4d5a-a387-5f4048f5e314",
   "metadata": {},
   "outputs": [],
   "source": [
    "np.sort(sorted_main, kind=\"quicksort\").tolist()"
   ]
  },
  {
   "cell_type": "code",
   "execution_count": null,
   "id": "0d28e4bf-fa39-4eee-9f59-741557819e03",
   "metadata": {},
   "outputs": [],
   "source": [
    "np.r_[1:3, 0, 10:23].reshape(2, 2, 4)"
   ]
  },
  {
   "cell_type": "code",
   "execution_count": null,
   "id": "bfb29433-a5eb-42e2-a146-78bc65877030",
   "metadata": {},
   "outputs": [],
   "source": [
    "np.asarray([1, 2, 3, 4])"
   ]
  },
  {
   "cell_type": "code",
   "execution_count": null,
   "id": "344c630b-a979-4684-851b-023d1b03a84f",
   "metadata": {},
   "outputs": [],
   "source": [
    "core[~np.isnan(core)]"
   ]
  },
  {
   "cell_type": "code",
   "execution_count": null,
   "id": "b0a5a610-5fbb-4671-a7e2-3f6730710873",
   "metadata": {},
   "outputs": [],
   "source": [
    "np.float64(core)"
   ]
  },
  {
   "cell_type": "code",
   "execution_count": null,
   "id": "b4afef63-e233-465f-976b-4f0d49ab40e5",
   "metadata": {},
   "outputs": [],
   "source": [
    "core.shape"
   ]
  },
  {
   "cell_type": "code",
   "execution_count": null,
   "id": "de089bdc-4f84-4305-ac29-e0b06a93ec6d",
   "metadata": {},
   "outputs": [],
   "source": [
    "main.shape"
   ]
  },
  {
   "cell_type": "code",
   "execution_count": null,
   "id": "db8e07fb-5d63-4631-aaeb-5b4167273bbc",
   "metadata": {},
   "outputs": [],
   "source": [
    "dumb = np.linspace(0, 1, 12).reshape(2, 6)"
   ]
  },
  {
   "cell_type": "code",
   "execution_count": null,
   "id": "6ddcce93-ea80-44d4-9059-298be2d7e374",
   "metadata": {},
   "outputs": [],
   "source": [
    "np.vsplit(dumb, 2)"
   ]
  },
  {
   "cell_type": "code",
   "execution_count": null,
   "id": "27639ace-46a1-421e-a7b3-fdee44221f9e",
   "metadata": {},
   "outputs": [],
   "source": [
    "np.array(\n",
    "    [\n",
    "        (\"anirudh\", 9, 90),\n",
    "        (\"devansh\", 19, 80),\n",
    "        (\"shiven\", 12, 70),\n",
    "    ],\n",
    "    [\n",
    "        (\"name\", \"U10\"),\n",
    "        (\"age\", \"i4\"),\n",
    "        (\"weight\", \"i4\"),\n",
    "    ]\n",
    ")"
   ]
  },
  {
   "cell_type": "code",
   "execution_count": null,
   "id": "e29d7d2c-5997-491d-859c-bc857a23147d",
   "metadata": {},
   "outputs": [],
   "source": [
    "np.linspace(1, 100, 10)"
   ]
  },
  {
   "cell_type": "code",
   "execution_count": null,
   "id": "44d713b5-c057-4d76-9987-3c552a8ea459",
   "metadata": {},
   "outputs": [],
   "source": [
    "np.arange(0.0, 0.5, 0.001).size"
   ]
  },
  {
   "cell_type": "code",
   "execution_count": null,
   "id": "bcff5a56-8a35-4690-a7f8-999ae389cb47",
   "metadata": {},
   "outputs": [],
   "source": [
    "np.eye(10, k = 1)"
   ]
  },
  {
   "cell_type": "code",
   "execution_count": null,
   "id": "309d39c1-e75b-457b-a115-47cdceca44ab",
   "metadata": {},
   "outputs": [],
   "source": [
    "np.asarray([1, 2, 3, 4, 5])"
   ]
  },
  {
   "cell_type": "code",
   "execution_count": null,
   "id": "54b61440-3d1e-4ac1-b648-15af7aeb9141",
   "metadata": {},
   "outputs": [],
   "source": [
    "np.ones_like(core)"
   ]
  },
  {
   "cell_type": "code",
   "execution_count": null,
   "id": "c05bc11d-5085-4d2f-9257-e39623385faf",
   "metadata": {},
   "outputs": [],
   "source": [
    "name = 'AN9ru#h'\n",
    "counter = 0\n",
    "\n",
    "for char in name:\n",
    "    if not char.isalpha(): \n",
    "        continue\n",
    "        \n",
    "    if char.isupper():\n",
    "        counter += 1\n",
    "\n",
    "print(counter)"
   ]
  },
  {
   "cell_type": "code",
   "execution_count": null,
   "id": "7228b960-5ba4-4735-aaf6-9311705de51f",
   "metadata": {},
   "outputs": [],
   "source": [
    "name = \"Anirudh34568&*;\"\n",
    "collection = {}\n",
    "\n",
    "for char in name:\n",
    "    if not char.isalpha(): \n",
    "        continue\n",
    "        \n",
    "    if collection.get(char):\n",
    "        collection[char] += 1\n",
    "    else:\n",
    "        collection[char] = 1\n",
    "\n",
    "print(collection)"
   ]
  },
  {
   "cell_type": "code",
   "execution_count": null,
   "id": "0a2f6d32-1711-4fbd-b449-3faa9d741315",
   "metadata": {},
   "outputs": [],
   "source": [
    "count = 1000\n",
    "\n",
    "len([element for element in range(1, (count * 2) + 1) if element % 2 == 0])"
   ]
  },
  {
   "cell_type": "code",
   "execution_count": 386,
   "id": "e0cc2279-088d-41ee-bc74-2fa0c76c6389",
   "metadata": {},
   "outputs": [
    {
     "data": {
      "text/plain": [
       "'a  n  i  r  u  d  h'"
      ]
     },
     "execution_count": 386,
     "metadata": {},
     "output_type": "execute_result"
    }
   ],
   "source": [
    "\"anirudh\".replace(\"\", \"  \").strip()"
   ]
  },
  {
   "cell_type": "code",
   "execution_count": 410,
   "id": "dfadde81-94a8-4a9c-ac69-445d3e3f88c6",
   "metadata": {},
   "outputs": [
    {
     "data": {
      "text/plain": [
       "dtype('<U32')"
      ]
     },
     "execution_count": 410,
     "metadata": {},
     "output_type": "execute_result"
    }
   ],
   "source": [
    "np.array([12, 12.2, 'anirudh']).dtype"
   ]
  },
  {
   "cell_type": "code",
   "execution_count": 409,
   "id": "130ba8ef-0d52-4b72-8fa7-1fcf268c3158",
   "metadata": {},
   "outputs": [
    {
     "data": {
      "text/plain": [
       "<memory at 0x000001EAF7CD0040>"
      ]
     },
     "execution_count": 409,
     "metadata": {},
     "output_type": "execute_result"
    }
   ],
   "source": [
    "np.array([12, 12]).data"
   ]
  },
  {
   "cell_type": "code",
   "execution_count": 1,
   "id": "bef240b1-cce5-4c11-9d4a-b8b591108d0e",
   "metadata": {},
   "outputs": [
    {
     "name": "stdout",
     "output_type": "stream",
     "text": [
      "done\n"
     ]
    }
   ],
   "source": [
    "print('done')"
   ]
  },
  {
   "cell_type": "code",
   "execution_count": null,
   "id": "10f7e5dc-95d2-4b1d-b0a6-f02fcbb308ec",
   "metadata": {},
   "outputs": [],
   "source": []
  }
 ],
 "metadata": {
  "kernelspec": {
   "display_name": "Python 3 (ipykernel)",
   "language": "python",
   "name": "python3"
  },
  "language_info": {
   "codemirror_mode": {
    "name": "ipython",
    "version": 3
   },
   "file_extension": ".py",
   "mimetype": "text/x-python",
   "name": "python",
   "nbconvert_exporter": "python",
   "pygments_lexer": "ipython3",
   "version": "3.12.3"
  }
 },
 "nbformat": 4,
 "nbformat_minor": 5
}
