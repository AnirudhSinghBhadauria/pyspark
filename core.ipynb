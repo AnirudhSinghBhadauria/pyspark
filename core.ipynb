{
 "cells": [
  {
   "cell_type": "code",
   "execution_count": 1,
   "id": "b45aeaa0-bfc1-4a47-bf34-a93b394016ae",
   "metadata": {},
   "outputs": [],
   "source": [
    "from pyspark.sql import SparkSession"
   ]
  },
  {
   "cell_type": "code",
   "execution_count": 2,
   "id": "ec0c303f-0ff9-4b4e-aac8-c130692d0270",
   "metadata": {},
   "outputs": [],
   "source": [
    "spark = SparkSession.builder.appName(\"test\").getOrCreate()"
   ]
  },
  {
   "cell_type": "code",
   "execution_count": 3,
   "id": "d4a49d33-04cd-4935-b66d-36e484d5c3bf",
   "metadata": {},
   "outputs": [],
   "source": [
    "titanic_df = spark.read.csv(\"data/titanic.csv\", header=True, inferSchema=True)"
   ]
  },
  {
   "cell_type": "code",
   "execution_count": 7,
   "id": "b676737c-96fc-4ea8-9df4-3cb78940fbac",
   "metadata": {},
   "outputs": [
    {
     "name": "stdout",
     "output_type": "stream",
     "text": [
      "+--------+------+--------------------+------+\n",
      "|Survived|Pclass|                Name|   Sex|\n",
      "+--------+------+--------------------+------+\n",
      "|       0|     3|Braund, Mr. Owen ...|  male|\n",
      "|       1|     1|Cumings, Mrs. Joh...|female|\n",
      "|       1|     3|Heikkinen, Miss. ...|female|\n",
      "|       1|     1|Futrelle, Mrs. Ja...|female|\n",
      "|       0|     3|Allen, Mr. Willia...|  male|\n",
      "+--------+------+--------------------+------+\n",
      "only showing top 5 rows\n",
      "\n"
     ]
    }
   ],
   "source": [
    "titanic_df.select(\n",
    "    titanic_df.columns[1: 5]\n",
    ").show(5)"
   ]
  },
  {
   "cell_type": "code",
   "execution_count": 1,
   "id": "92c01cbd-df48-4e73-b441-09f88cadd4eb",
   "metadata": {},
   "outputs": [],
   "source": [
    "import numpy as np"
   ]
  },
  {
   "cell_type": "code",
   "execution_count": 2,
<<<<<<< HEAD
   "id": "cd6e9ac4-8e5e-424d-b292-b47aec5046fa",
   "metadata": {},
   "outputs": [
    {
     "data": {
      "text/plain": [
       "array([3, 4, 5, 6])"
      ]
     },
     "execution_count": 2,
     "metadata": {},
     "output_type": "execute_result"
    }
   ],
   "source": [
    "np.array([1, 2, 3, 4]) + 2"
   ]
  },
  {
   "cell_type": "code",
   "execution_count": 19,
   "id": "5bae566c-f8bc-4153-a49f-adfa52651c5f",
=======
<<<<<<< HEAD
   "id": "c6077df2-6531-498f-a7a1-8be519f81451",
=======
   "id": "e3eacb7f-1329-4323-a5bf-bb3f7664a37e",
>>>>>>> c63584f67fb340c7ac9b0d014714a79bc96269e5
>>>>>>> 8db15ac68a74ae158d2e8cf80c4ce6f2bab01b4e
   "metadata": {},
   "outputs": [
    {
     "name": "stdout",
     "output_type": "stream",
     "text": [
<<<<<<< HEAD
      "done\n"
=======
      "logger\n"
>>>>>>> 8db15ac68a74ae158d2e8cf80c4ce6f2bab01b4e
     ]
    }
   ],
   "source": [
<<<<<<< HEAD
    "print('done')"
=======
    "print('logger')"
>>>>>>> 8db15ac68a74ae158d2e8cf80c4ce6f2bab01b4e
   ]
  },
  {
   "cell_type": "code",
   "execution_count": null,
   "id": "42ed339a-9f31-4782-a5df-a538080a0bf8",
   "metadata": {},
   "outputs": [],
   "source": []
  }
 ],
 "metadata": {
  "kernelspec": {
   "display_name": "Python 3 (ipykernel)",
   "language": "python",
   "name": "python3"
  },
  "language_info": {
   "codemirror_mode": {
    "name": "ipython",
    "version": 3
   },
   "file_extension": ".py",
   "mimetype": "text/x-python",
   "name": "python",
   "nbconvert_exporter": "python",
   "pygments_lexer": "ipython3",
   "version": "3.12.3"
  }
 },
 "nbformat": 4,
 "nbformat_minor": 5
}
