{
 "cells": [
  {
   "cell_type": "code",
   "execution_count": null,
   "id": "b90c93c7-7d12-4919-8df1-921845c8eb37",
   "metadata": {},
   "outputs": [],
   "source": [
    "import pandas as pd"
   ]
  },
  {
   "cell_type": "markdown",
   "id": "837c805b-3019-4435-8e00-bedb1b0c7f62",
   "metadata": {},
   "source": [
    "### Q1"
   ]
  },
  {
   "cell_type": "code",
   "execution_count": null,
   "id": "cc088243-4100-43be-b485-73ca2f45d572",
   "metadata": {},
   "outputs": [],
   "source": [
    "collection = []\n",
    "\n",
    "for numbers in range(1500, 2701):\n",
    "    if numbers % 7 == 0 and numbers % 5 == 0:\n",
    "        collection.append(numbers)\n",
    "\n",
    "print(collection)"
   ]
  },
  {
   "cell_type": "code",
   "execution_count": null,
   "id": "595dd64b-4234-4c71-8191-7aba44736ad1",
   "metadata": {},
   "outputs": [],
   "source": [
    "[element for element in range(1500, 2701) if element % 7 == 0 and element % 5 == 0]"
   ]
  },
  {
   "cell_type": "markdown",
   "id": "83a3e5a6-3c90-4e5c-b80c-2369bb7b26e8",
   "metadata": {},
   "source": [
    "# **Pandas**"
   ]
  },
  {
   "cell_type": "code",
   "execution_count": 216,
   "id": "5adb4d6e-e6af-4936-8731-0bdc6890abb3",
   "metadata": {},
   "outputs": [],
   "source": [
    "from datetime import datetime"
   ]
  },
  {
   "cell_type": "code",
   "execution_count": 1,
   "id": "ed80bf8c-00f6-440e-9163-794f46da12f3",
   "metadata": {},
   "outputs": [
    {
     "ename": "NameError",
     "evalue": "name 'pd' is not defined",
     "output_type": "error",
     "traceback": [
      "\u001b[1;31m---------------------------------------------------------------------------\u001b[0m",
      "\u001b[1;31mNameError\u001b[0m                                 Traceback (most recent call last)",
      "Cell \u001b[1;32mIn[1], line 1\u001b[0m\n\u001b[1;32m----> 1\u001b[0m call_center_df \u001b[38;5;241m=\u001b[39m \u001b[43mpd\u001b[49m\u001b[38;5;241m.\u001b[39mread_excel(\u001b[38;5;124m\"\u001b[39m\u001b[38;5;124mdata/Call-Center-Sentiment-Sample-Data.xlsx\u001b[39m\u001b[38;5;124m\"\u001b[39m, skiprows \u001b[38;5;241m=\u001b[39m \u001b[38;5;241m5\u001b[39m, index_col \u001b[38;5;241m=\u001b[39m \u001b[38;5;241m1\u001b[39m)\u001b[38;5;241m.\u001b[39mdrop(columns\u001b[38;5;241m=\u001b[39m[\u001b[38;5;124m'\u001b[39m\u001b[38;5;124mUnnamed: 0\u001b[39m\u001b[38;5;124m'\u001b[39m])\n",
      "\u001b[1;31mNameError\u001b[0m: name 'pd' is not defined"
     ]
    }
   ],
   "source": [
    "call_center_df = pd.read_excel(\"data/Call-Center-Sentiment-Sample-Data.xlsx\", skiprows = 5, index_col = 1).drop(columns=['Unnamed: 0'])"
   ]
  },
  {
   "cell_type": "markdown",
   "id": "a66d652c-3122-4580-a870-0a11dd76d1c8",
   "metadata": {},
   "source": [
    "#### Q1. Find the state which has most negative sentiment about the services provided by call centre?Which day of the week are people of that state calling the call centre the most?"
   ]
  },
  {
   "cell_type": "code",
   "execution_count": null,
   "id": "533011db-0cb9-42ac-a63c-31e82053b90e",
   "metadata": {},
   "outputs": [],
   "source": [
    "sentiment_df = call_center_df.loc[\n",
    "    (call_center_df['Sentiment'] == 'Negative'),\n",
    "    ['Sentiment', 'State']\n",
    "].groupby(['State']).count()"
   ]
  },
  {
   "cell_type": "code",
   "execution_count": 256,
   "id": "19ddee14-2d25-4b99-bb56-0d43f8bb6396",
   "metadata": {},
   "outputs": [
    {
     "data": {
      "text/plain": [
       "'Texas'"
      ]
     },
     "execution_count": 256,
     "metadata": {},
     "output_type": "execute_result"
    }
   ],
   "source": [
    "sentiment_df.sort_values(\"Sentiment\", ascending=False).head(2).index[0]"
   ]
  },
  {
   "cell_type": "code",
   "execution_count": 214,
   "id": "5aaa4c98-9cde-43e3-ba1e-70b58e32aa8f",
   "metadata": {},
   "outputs": [],
   "source": [
    "day_week = call_center_df.loc[\n",
    "    call_center_df['State'] == 'Texas',\n",
    "    [\"Call Timestamp\", \"Customer Name\"]\n",
    "].groupby(\"Call Timestamp\").count().sort_values(\"Customer Name\", ascending=False).head(1).index[0]"
   ]
  },
  {
   "cell_type": "code",
   "execution_count": 225,
   "id": "0ce7c82c-7b0c-403f-a200-9e3e6d815ff4",
   "metadata": {},
   "outputs": [
    {
     "data": {
      "text/plain": [
       "'Monday'"
      ]
     },
     "execution_count": 225,
     "metadata": {},
     "output_type": "execute_result"
    }
   ],
   "source": [
    "datetime.strftime(day_week, \"%A\")"
   ]
  },
  {
   "cell_type": "code",
   "execution_count": 279,
   "id": "fa29426a-cb12-44e2-9c0a-14ab752ce217",
   "metadata": {},
   "outputs": [
    {
     "data": {
      "text/plain": [
       "'Monday'"
      ]
     },
     "execution_count": 279,
     "metadata": {},
     "output_type": "execute_result"
    }
   ],
   "source": [
    "datetime.strftime(call_center_df.loc[\n",
    "    call_center_df['State'] == 'Texas',\n",
    "    [\"Call Timestamp\", \"Customer Name\"]\n",
    "].mode()['Call Timestamp'][0], \"%A\")"
   ]
  },
  {
   "cell_type": "markdown",
   "id": "45bff316-ec0b-4854-85e8-d663e1bf1683",
   "metadata": {},
   "source": [
    "#### Q2. Find the product which is generating the least revenue?And also provide how many units of this product is SOLD?"
   ]
  },
  {
   "cell_type": "code",
   "execution_count": null,
   "id": "ce900855-1f47-4751-9052-bf182a9128ec",
   "metadata": {},
   "outputs": [],
   "source": [
    "inventory_df = pd.read_excel(\"data/Inventory-Records-Sample-Data.xlsx\", skiprows = 5, index_col = 1).drop(columns=['Unnamed: 0'])"
   ]
  },
  {
   "cell_type": "code",
   "execution_count": null,
   "id": "28044f0e-a9fe-4cfd-988e-db872edccf55",
   "metadata": {},
   "outputs": [],
   "source": [
    "inventory_df['Revenue Generated'] = inventory_df['Number of \\nUnits Sold'] * inventory_df['Cost Price\\nTotal (USD)']"
   ]
  },
  {
   "cell_type": "code",
   "execution_count": 227,
   "id": "94c01090-3631-4f98-97f8-a863f2edb0b4",
   "metadata": {},
   "outputs": [],
   "source": [
    "result_df = inventory_df[\n",
    "        ['Product Name', \"Revenue Generated\", 'Number of \\nUnits Sold']\n",
    "].sort_values(\"Revenue Generated\", ascending=True).head(1)"
   ]
  },
  {
   "cell_type": "code",
   "execution_count": 228,
   "id": "57cee26c-ceba-4183-a631-4770e9f64881",
   "metadata": {},
   "outputs": [
    {
     "data": {
      "text/html": [
       "<div>\n",
       "<style scoped>\n",
       "    .dataframe tbody tr th:only-of-type {\n",
       "        vertical-align: middle;\n",
       "    }\n",
       "\n",
       "    .dataframe tbody tr th {\n",
       "        vertical-align: top;\n",
       "    }\n",
       "\n",
       "    .dataframe thead th {\n",
       "        text-align: right;\n",
       "    }\n",
       "</style>\n",
       "<table border=\"1\" class=\"dataframe\">\n",
       "  <thead>\n",
       "    <tr style=\"text-align: right;\">\n",
       "      <th></th>\n",
       "      <th>Product Name</th>\n",
       "      <th>Revenue Generated</th>\n",
       "      <th>Number of \\nUnits Sold</th>\n",
       "    </tr>\n",
       "    <tr>\n",
       "      <th>Product ID</th>\n",
       "      <th></th>\n",
       "      <th></th>\n",
       "      <th></th>\n",
       "    </tr>\n",
       "  </thead>\n",
       "  <tbody>\n",
       "    <tr>\n",
       "      <th>P137</th>\n",
       "      <td>Printer Cable</td>\n",
       "      <td>580</td>\n",
       "      <td>4</td>\n",
       "    </tr>\n",
       "  </tbody>\n",
       "</table>\n",
       "</div>"
      ],
      "text/plain": [
       "             Product Name  Revenue Generated  Number of \\nUnits Sold\n",
       "Product ID                                                          \n",
       "P137        Printer Cable                580                       4"
      ]
     },
     "execution_count": 228,
     "metadata": {},
     "output_type": "execute_result"
    }
   ],
   "source": [
    "result_df"
   ]
  },
  {
   "cell_type": "markdown",
   "id": "72dc290b-fcf4-4aca-9612-1cab04cb7d42",
   "metadata": {},
   "source": [
    "#### Q3. Find on which day of the week are maximum projects started and also the day of the week when maximum projects are completed?"
   ]
  },
  {
   "cell_type": "code",
   "execution_count": null,
   "id": "da2814f4-a2a8-452d-9672-ba4e8c0166d8",
   "metadata": {},
   "outputs": [],
   "source": [
    "projects_df = pd.read_excel(\"data/Project-Management-Sample-Data.xlsx\", skiprows = 5,).drop(columns=['Unnamed: 0'])"
   ]
  },
  {
   "cell_type": "code",
   "execution_count": null,
   "id": "67e8c7f6-75f3-4964-8940-b087fd4de839",
   "metadata": {},
   "outputs": [],
   "source": [
    "max_project_started = projects_df[\n",
    "        ['Start Date', 'Project Name']\n",
    "].groupby(['Start Date']).count().sort_values(\"Project Name\", ascending=False).head(2)"
   ]
  },
  {
   "cell_type": "code",
   "execution_count": 226,
   "id": "95a9e5eb-1bfa-4d64-a052-4e3b66701427",
   "metadata": {},
   "outputs": [
    {
     "name": "stdout",
     "output_type": "stream",
     "text": [
      "Wednesday\n",
      "Tuesday\n"
     ]
    }
   ],
   "source": [
    "for day in list(max_project_started.index):\n",
    "    print(datetime.strftime(day, \"%A\"))"
   ]
  },
  {
   "cell_type": "code",
   "execution_count": 252,
   "id": "dc78e8e8-3959-4f29-873d-3f4d4d51ebcc",
   "metadata": {},
   "outputs": [],
   "source": [
    "completed_projects = projects_df.loc[\n",
    "    (projects_df['Progress'] == 1.00),\n",
    "    ['End Date', 'Project Name']\n",
    "].groupby(['End Date']).count()"
   ]
  },
  {
   "cell_type": "code",
   "execution_count": 253,
   "id": "554bfee5-991a-401b-80d8-6bdaee5a0ad5",
   "metadata": {},
   "outputs": [
    {
     "data": {
      "text/plain": [
       "'Wednesday'"
      ]
     },
     "execution_count": 253,
     "metadata": {},
     "output_type": "execute_result"
    }
   ],
   "source": [
    "collection = []\n",
    "for day in list(max_completed_projects.index):\n",
    "    collection.append(datetime.strftime(day, \"%A\"))\n",
    "\n",
    "max(collection)"
   ]
  },
  {
   "cell_type": "code",
   "execution_count": null,
   "id": "be2a1430-870d-4aa6-ab43-52aa87dcecde",
   "metadata": {},
   "outputs": [],
   "source": []
  }
 ],
 "metadata": {
  "kernelspec": {
   "display_name": "Python 3 (ipykernel)",
   "language": "python",
   "name": "python3"
  },
  "language_info": {
   "codemirror_mode": {
    "name": "ipython",
    "version": 3
   },
   "file_extension": ".py",
   "mimetype": "text/x-python",
   "name": "python",
   "nbconvert_exporter": "python",
   "pygments_lexer": "ipython3",
   "version": "3.12.3"
  }
 },
 "nbformat": 4,
 "nbformat_minor": 5
}
