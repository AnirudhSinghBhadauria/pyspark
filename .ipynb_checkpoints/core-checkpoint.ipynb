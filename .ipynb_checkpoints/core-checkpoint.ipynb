{
 "cells": [
  {
   "cell_type": "code",
   "execution_count": null,
   "id": "bf329824-a221-44f2-86dd-838ea613457e",
   "metadata": {},
   "outputs": [],
   "source": [
    "import numpy as np\n",
    "import pandas as pd"
   ]
  },
  {
   "cell_type": "code",
   "execution_count": null,
   "id": "a2408711-5b0e-4af9-9f43-238bb28980ca",
   "metadata": {},
   "outputs": [],
   "source": [
    "core = np.round(np.linspace(0, 1, 10).reshape(2, 5), 2)"
   ]
  },
  {
   "cell_type": "code",
   "execution_count": null,
   "id": "942e3b3c-5f02-4312-ba4d-bae5159ce1c2",
   "metadata": {},
   "outputs": [],
   "source": [
    "core.astype(\"float64\")"
   ]
  },
  {
   "cell_type": "code",
   "execution_count": null,
   "id": "d1c6d8e0-dcdb-4b0b-9bc3-91509b700b5c",
   "metadata": {},
   "outputs": [],
   "source": [
    "# Memory location of a nd Array\n",
    "\n",
    "core.data"
   ]
  },
  {
   "cell_type": "code",
   "execution_count": null,
   "id": "56103003-f484-41ba-8b8e-b764d104276b",
   "metadata": {},
   "outputs": [],
   "source": [
    "np.eye(10, k = 1)"
   ]
  },
  {
   "cell_type": "code",
   "execution_count": null,
   "id": "80165c15-50a8-4993-a664-2f4cd6d7e1a8",
   "metadata": {},
   "outputs": [],
   "source": [
    "np.identity(10)"
   ]
  },
  {
   "cell_type": "code",
   "execution_count": null,
   "id": "bc726415-30df-48fe-ade7-957e7bc96769",
   "metadata": {},
   "outputs": [],
   "source": [
    "np.int32(core)"
   ]
  },
  {
   "cell_type": "code",
   "execution_count": null,
   "id": "143797b1-0d64-4a33-9a2b-bdba738bf912",
   "metadata": {},
   "outputs": [],
   "source": [
    "core"
   ]
  },
  {
   "cell_type": "code",
   "execution_count": null,
   "id": "8f9534fd-f344-4989-a4bb-c49de8da183a",
   "metadata": {},
   "outputs": [],
   "source": [
    "[core[0, 0], core[1, 1]]"
   ]
  },
  {
   "cell_type": "code",
   "execution_count": null,
   "id": "8bd47e67-d37c-4e28-a37d-2e8fb9f4998a",
   "metadata": {},
   "outputs": [],
   "source": [
    "np.round(np.random.rand(10).reshape(5, 2), 2)"
   ]
  },
  {
   "cell_type": "code",
   "execution_count": null,
   "id": "c2fc77fe-60bd-472c-97c6-a066bbf63b58",
   "metadata": {},
   "outputs": [],
   "source": [
    "np.random.choice(core.flatten())"
   ]
  },
  {
   "cell_type": "code",
   "execution_count": null,
   "id": "184d124d-3a6f-41d9-b8df-b1a873a5f8b3",
   "metadata": {},
   "outputs": [],
   "source": [
    "np.random.rand(10).reshape(2 ,5)"
   ]
  },
  {
   "cell_type": "code",
   "execution_count": null,
   "id": "70596487-1e6a-4add-98e1-c3fa364aac2d",
   "metadata": {},
   "outputs": [],
   "source": [
    "core.flatten()"
   ]
  },
  {
   "cell_type": "code",
   "execution_count": null,
   "id": "051de709-722e-4dd8-8fab-b5130b6de01a",
   "metadata": {},
   "outputs": [],
   "source": [
    "core.ravel()"
   ]
  },
  {
   "cell_type": "code",
   "execution_count": null,
   "id": "84c3ec06-48cc-47bf-954d-547ed3e519e8",
   "metadata": {},
   "outputs": [],
   "source": [
    "core.resize(2, 5)"
   ]
  },
  {
   "cell_type": "code",
   "execution_count": null,
   "id": "7ca254fc-833f-41db-b6f2-8a3d265e3bf4",
   "metadata": {},
   "outputs": [],
   "source": [
    "core.shape"
   ]
  },
  {
   "cell_type": "code",
   "execution_count": null,
   "id": "a8eeb478-3d8d-4a46-bc3d-81713f44f3b3",
   "metadata": {},
   "outputs": [],
   "source": [
    "main = np.round(np.linspace(1, 10, 10).reshape(2, 5), 2)"
   ]
  },
  {
   "cell_type": "code",
   "execution_count": null,
   "id": "cacb49f7-2da4-4d1e-a64c-a87098cee78a",
   "metadata": {},
   "outputs": [],
   "source": [
    "main"
   ]
  },
  {
   "cell_type": "code",
   "execution_count": null,
   "id": "263d9463-b99c-48e5-b755-b51e874931d1",
   "metadata": {},
   "outputs": [],
   "source": [
    "huge = np.round(np.linspace(1, 100, 1000), 2).reshape(10, 100)"
   ]
  },
  {
   "cell_type": "code",
   "execution_count": null,
   "id": "e8e45d59-7a24-4986-9b69-3983ea8c79b6",
   "metadata": {},
   "outputs": [],
   "source": [
    "np.vsplit(huge, 10)"
   ]
  },
  {
   "cell_type": "code",
   "execution_count": null,
   "id": "8ab2668c-9d14-488d-81b5-ad6dad4a0a98",
   "metadata": {},
   "outputs": [],
   "source": [
    "np.hsplit(huge, 10)"
   ]
  },
  {
   "cell_type": "code",
   "execution_count": null,
   "id": "28f7d720-e82f-4861-9e9b-324e305f3a47",
   "metadata": {},
   "outputs": [],
   "source": [
    "np.round(np.random.rand(100).reshape(2, 5, 10), 2)"
   ]
  },
  {
   "cell_type": "code",
   "execution_count": null,
   "id": "8223ee16-0e4f-42e9-b420-f81f9d011f04",
   "metadata": {},
   "outputs": [],
   "source": [
    "sorted_main = main.ravel().astype(\"int64\")"
   ]
  },
  {
   "cell_type": "code",
   "execution_count": null,
   "id": "dacb968e-ee43-4d5a-a387-5f4048f5e314",
   "metadata": {},
   "outputs": [],
   "source": [
    "np.sort(sorted_main, kind=\"quicksort\").tolist()"
   ]
  },
  {
   "cell_type": "code",
   "execution_count": null,
   "id": "0d28e4bf-fa39-4eee-9f59-741557819e03",
   "metadata": {},
   "outputs": [],
   "source": [
    "np.r_[1:3, 0, 10:23].reshape(2, 2, 4)"
   ]
  },
  {
   "cell_type": "code",
   "execution_count": null,
   "id": "bfb29433-a5eb-42e2-a146-78bc65877030",
   "metadata": {},
   "outputs": [],
   "source": [
    "np.asarray([1, 2, 3, 4])"
   ]
  },
  {
   "cell_type": "code",
   "execution_count": null,
   "id": "344c630b-a979-4684-851b-023d1b03a84f",
   "metadata": {},
   "outputs": [],
   "source": [
    "core[~np.isnan(core)]"
   ]
  },
  {
   "cell_type": "code",
   "execution_count": null,
   "id": "b0a5a610-5fbb-4671-a7e2-3f6730710873",
   "metadata": {},
   "outputs": [],
   "source": [
    "np.float64(core)"
   ]
  },
  {
   "cell_type": "code",
   "execution_count": null,
   "id": "b4afef63-e233-465f-976b-4f0d49ab40e5",
   "metadata": {},
   "outputs": [],
   "source": [
    "core.shape"
   ]
  },
  {
   "cell_type": "code",
   "execution_count": null,
   "id": "de089bdc-4f84-4305-ac29-e0b06a93ec6d",
   "metadata": {},
   "outputs": [],
   "source": [
    "main.shape"
   ]
  },
  {
   "cell_type": "code",
   "execution_count": null,
   "id": "db8e07fb-5d63-4631-aaeb-5b4167273bbc",
   "metadata": {},
   "outputs": [],
   "source": [
    "dumb = np.linspace(0, 1, 12).reshape(2, 6)"
   ]
  },
  {
   "cell_type": "code",
   "execution_count": null,
   "id": "6ddcce93-ea80-44d4-9059-298be2d7e374",
   "metadata": {},
   "outputs": [],
   "source": [
    "np.vsplit(dumb, 2)"
   ]
  },
  {
   "cell_type": "code",
   "execution_count": null,
   "id": "27639ace-46a1-421e-a7b3-fdee44221f9e",
   "metadata": {},
   "outputs": [],
   "source": [
    "np.array(\n",
    "    [\n",
    "        (\"anirudh\", 9, 90),\n",
    "        (\"devansh\", 19, 80),\n",
    "        (\"shiven\", 12, 70),\n",
    "    ],\n",
    "    [\n",
    "        (\"name\", \"U10\"),\n",
    "        (\"age\", \"i4\"),\n",
    "        (\"weight\", \"i4\"),\n",
    "    ]\n",
    ")"
   ]
  },
  {
   "cell_type": "code",
   "execution_count": null,
   "id": "e29d7d2c-5997-491d-859c-bc857a23147d",
   "metadata": {},
   "outputs": [],
   "source": [
    "np.linspace(1, 100, 10)"
   ]
  },
  {
   "cell_type": "code",
   "execution_count": null,
   "id": "44d713b5-c057-4d76-9987-3c552a8ea459",
   "metadata": {},
   "outputs": [],
   "source": [
    "np.arange(0.0, 0.5, 0.001).size"
   ]
  },
  {
   "cell_type": "code",
   "execution_count": null,
   "id": "bcff5a56-8a35-4690-a7f8-999ae389cb47",
   "metadata": {},
   "outputs": [],
   "source": [
    "np.eye(10, k = 1)"
   ]
  },
  {
   "cell_type": "code",
   "execution_count": null,
   "id": "309d39c1-e75b-457b-a115-47cdceca44ab",
   "metadata": {},
   "outputs": [],
   "source": [
    "np.asarray([1, 2, 3, 4, 5])"
   ]
  },
  {
   "cell_type": "code",
   "execution_count": null,
   "id": "54b61440-3d1e-4ac1-b648-15af7aeb9141",
   "metadata": {},
   "outputs": [],
   "source": [
    "np.ones_like(core)"
   ]
  },
  {
   "cell_type": "code",
   "execution_count": null,
   "id": "c05bc11d-5085-4d2f-9257-e39623385faf",
   "metadata": {},
   "outputs": [],
   "source": [
    "name = 'AN9ru#h'\n",
    "counter = 0\n",
    "\n",
    "for char in name:\n",
    "    if not char.isalpha(): \n",
    "        continue\n",
    "        \n",
    "    if char.isupper():\n",
    "        counter += 1\n",
    "\n",
    "print(counter)"
   ]
  },
  {
   "cell_type": "code",
   "execution_count": null,
   "id": "7228b960-5ba4-4735-aaf6-9311705de51f",
   "metadata": {},
   "outputs": [],
   "source": [
    "name = \"Anirudh34568&*;\"\n",
    "collection = {}\n",
    "\n",
    "for char in name:\n",
    "    if not char.isalpha(): \n",
    "        continue\n",
    "        \n",
    "    if collection.get(char):\n",
    "        collection[char] += 1\n",
    "    else:\n",
    "        collection[char] = 1\n",
    "\n",
    "print(collection)"
   ]
  },
  {
   "cell_type": "code",
   "execution_count": null,
   "id": "0a2f6d32-1711-4fbd-b449-3faa9d741315",
   "metadata": {},
   "outputs": [],
   "source": [
    "count = 1000\n",
    "\n",
    "len([element for element in range(1, (count * 2) + 1) if element % 2 == 0])"
   ]
  },
  {
   "cell_type": "code",
   "execution_count": null,
   "id": "e0cc2279-088d-41ee-bc74-2fa0c76c6389",
   "metadata": {},
   "outputs": [],
   "source": [
    "\"anirudh\".replace(\"\", \"  \").strip()"
   ]
  },
  {
   "cell_type": "code",
   "execution_count": null,
   "id": "dfadde81-94a8-4a9c-ac69-445d3e3f88c6",
   "metadata": {},
   "outputs": [],
   "source": [
    "np.array([12, 12.2, 'anirudh']).dtype"
   ]
  },
  {
   "cell_type": "code",
   "execution_count": null,
   "id": "130ba8ef-0d52-4b72-8fa7-1fcf268c3158",
   "metadata": {},
   "outputs": [],
   "source": [
    "np.array([12, 12]).data"
   ]
  },
  {
   "cell_type": "markdown",
   "id": "1b79e9df-e923-414e-b964-67278b7a074e",
   "metadata": {},
   "source": [
    "# **Pandas**"
   ]
  },
  {
   "cell_type": "code",
   "execution_count": null,
   "id": "10f7e5dc-95d2-4b1d-b0a6-f02fcbb308ec",
   "metadata": {},
   "outputs": [],
   "source": [
    "employee_df = pd.read_csv(\"https://anirudhbhadauria.blob.core.windows.net/test-storage/source/Employee_Compensation.csv\", index_col = 0)"
   ]
  },
  {
   "cell_type": "code",
   "execution_count": null,
   "id": "b0a3bfef-995d-44af-bdf9-68b2663a69f9",
   "metadata": {},
   "outputs": [],
   "source": [
    "employee_df = employee_df.drop_duplicates()"
   ]
  },
  {
   "cell_type": "code",
   "execution_count": null,
   "id": "1d54be5a-a4e2-446d-8d76-7ef4ff13a488",
   "metadata": {},
   "outputs": [],
   "source": [
    "employee_df = employee_df[employee_df['Year'].notna()]"
   ]
  },
  {
   "cell_type": "code",
   "execution_count": 36,
   "id": "41321265-8efe-4289-a162-c6bb9bba5177",
   "metadata": {},
   "outputs": [
    {
     "data": {
      "text/html": [
       "<div>\n",
       "<style scoped>\n",
       "    .dataframe tbody tr th:only-of-type {\n",
       "        vertical-align: middle;\n",
       "    }\n",
       "\n",
       "    .dataframe tbody tr th {\n",
       "        vertical-align: top;\n",
       "    }\n",
       "\n",
       "    .dataframe thead th {\n",
       "        text-align: right;\n",
       "    }\n",
       "</style>\n",
       "<table border=\"1\" class=\"dataframe\">\n",
       "  <thead>\n",
       "    <tr style=\"text-align: right;\">\n",
       "      <th></th>\n",
       "      <th>Job Family Code</th>\n",
       "      <th>Job Code</th>\n",
       "      <th>Year Type</th>\n",
       "      <th>Year</th>\n",
       "      <th>Organization Group</th>\n",
       "      <th>Department Code</th>\n",
       "      <th>Department</th>\n",
       "      <th>Union Code</th>\n",
       "      <th>Union</th>\n",
       "      <th>Job Family</th>\n",
       "      <th>...</th>\n",
       "      <th>Employee Identifier</th>\n",
       "      <th>Salaries</th>\n",
       "      <th>Overtime</th>\n",
       "      <th>Other Salaries</th>\n",
       "      <th>Total Salary</th>\n",
       "      <th>Retirement</th>\n",
       "      <th>Health and Dental</th>\n",
       "      <th>Other Benefits</th>\n",
       "      <th>Total Benefits</th>\n",
       "      <th>Total Compensation</th>\n",
       "    </tr>\n",
       "    <tr>\n",
       "      <th>Organization Group Code</th>\n",
       "      <th></th>\n",
       "      <th></th>\n",
       "      <th></th>\n",
       "      <th></th>\n",
       "      <th></th>\n",
       "      <th></th>\n",
       "      <th></th>\n",
       "      <th></th>\n",
       "      <th></th>\n",
       "      <th></th>\n",
       "      <th></th>\n",
       "      <th></th>\n",
       "      <th></th>\n",
       "      <th></th>\n",
       "      <th></th>\n",
       "      <th></th>\n",
       "      <th></th>\n",
       "      <th></th>\n",
       "      <th></th>\n",
       "      <th></th>\n",
       "      <th></th>\n",
       "    </tr>\n",
       "  </thead>\n",
       "  <tbody>\n",
       "    <tr>\n",
       "      <th>4</th>\n",
       "      <td>2300</td>\n",
       "      <td>2320</td>\n",
       "      <td>Fiscal</td>\n",
       "      <td>2019</td>\n",
       "      <td>Community Health</td>\n",
       "      <td>DPH</td>\n",
       "      <td>Public Health</td>\n",
       "      <td>791</td>\n",
       "      <td>SEIU, Local 1021, RN</td>\n",
       "      <td>Nursing</td>\n",
       "      <td>...</td>\n",
       "      <td>40366155.0</td>\n",
       "      <td>12267.90</td>\n",
       "      <td>0.00</td>\n",
       "      <td>1215.37</td>\n",
       "      <td>13483.27</td>\n",
       "      <td>2510.58</td>\n",
       "      <td>1533.75</td>\n",
       "      <td>1048.37</td>\n",
       "      <td>5092.70</td>\n",
       "      <td>18575.97</td>\n",
       "    </tr>\n",
       "    <tr>\n",
       "      <th>2</th>\n",
       "      <td>9100</td>\n",
       "      <td>9132</td>\n",
       "      <td>Calendar</td>\n",
       "      <td>2017</td>\n",
       "      <td>Public Works, Transportation &amp; Commerce</td>\n",
       "      <td>MTA</td>\n",
       "      <td>Municipal Transportation Agcy</td>\n",
       "      <td>254</td>\n",
       "      <td>TWU, Local 250-A, TranFare</td>\n",
       "      <td>Street Transit</td>\n",
       "      <td>...</td>\n",
       "      <td>37069215.0</td>\n",
       "      <td>12767.26</td>\n",
       "      <td>0.00</td>\n",
       "      <td>789.81</td>\n",
       "      <td>13557.07</td>\n",
       "      <td>2411.14</td>\n",
       "      <td>8936.21</td>\n",
       "      <td>1067.10</td>\n",
       "      <td>12414.45</td>\n",
       "      <td>25971.52</td>\n",
       "    </tr>\n",
       "    <tr>\n",
       "      <th>6</th>\n",
       "      <td>7300</td>\n",
       "      <td>7338</td>\n",
       "      <td>Fiscal</td>\n",
       "      <td>2017</td>\n",
       "      <td>General Administration &amp; Finance</td>\n",
       "      <td>TIS</td>\n",
       "      <td>Department of Technology</td>\n",
       "      <td>6</td>\n",
       "      <td>Electrical Workers, Local 6</td>\n",
       "      <td>Journeyman Trade</td>\n",
       "      <td>...</td>\n",
       "      <td>37065107.0</td>\n",
       "      <td>91207.10</td>\n",
       "      <td>18112.11</td>\n",
       "      <td>1176.29</td>\n",
       "      <td>110495.50</td>\n",
       "      <td>7373.29</td>\n",
       "      <td>13925.33</td>\n",
       "      <td>8821.70</td>\n",
       "      <td>30120.32</td>\n",
       "      <td>140615.82</td>\n",
       "    </tr>\n",
       "    <tr>\n",
       "      <th>6</th>\n",
       "      <td>2400</td>\n",
       "      <td>2456</td>\n",
       "      <td>Calendar</td>\n",
       "      <td>2017</td>\n",
       "      <td>General Administration &amp; Finance</td>\n",
       "      <td>ADM</td>\n",
       "      <td>Administrative Services</td>\n",
       "      <td>21</td>\n",
       "      <td>Prof &amp; Tech Eng, Local 21</td>\n",
       "      <td>Lab, Pharmacy &amp; Med Techs</td>\n",
       "      <td>...</td>\n",
       "      <td>36994464.0</td>\n",
       "      <td>98193.20</td>\n",
       "      <td>0.00</td>\n",
       "      <td>0.00</td>\n",
       "      <td>98193.20</td>\n",
       "      <td>18376.29</td>\n",
       "      <td>14010.17</td>\n",
       "      <td>7944.24</td>\n",
       "      <td>40330.70</td>\n",
       "      <td>138523.90</td>\n",
       "    </tr>\n",
       "    <tr>\n",
       "      <th>2</th>\n",
       "      <td>9100</td>\n",
       "      <td>9163</td>\n",
       "      <td>Fiscal</td>\n",
       "      <td>2017</td>\n",
       "      <td>Public Works, Transportation &amp; Commerce</td>\n",
       "      <td>MTA</td>\n",
       "      <td>Municipal Transportation Agcy</td>\n",
       "      <td>253</td>\n",
       "      <td>TWU, Local 250-A, TransitOpr</td>\n",
       "      <td>Street Transit</td>\n",
       "      <td>...</td>\n",
       "      <td>36646187.0</td>\n",
       "      <td>71810.85</td>\n",
       "      <td>10212.07</td>\n",
       "      <td>2210.55</td>\n",
       "      <td>84233.47</td>\n",
       "      <td>14960.01</td>\n",
       "      <td>14490.19</td>\n",
       "      <td>6221.63</td>\n",
       "      <td>35671.83</td>\n",
       "      <td>119905.30</td>\n",
       "    </tr>\n",
       "  </tbody>\n",
       "</table>\n",
       "<p>5 rows × 21 columns</p>\n",
       "</div>"
      ],
      "text/plain": [
       "                        Job Family Code Job Code Year Type  Year  \\\n",
       "Organization Group Code                                            \n",
       "4                                  2300     2320    Fiscal  2019   \n",
       "2                                  9100     9132  Calendar  2017   \n",
       "6                                  7300     7338    Fiscal  2017   \n",
       "6                                  2400     2456  Calendar  2017   \n",
       "2                                  9100     9163    Fiscal  2017   \n",
       "\n",
       "                                              Organization Group  \\\n",
       "Organization Group Code                                            \n",
       "4                                               Community Health   \n",
       "2                        Public Works, Transportation & Commerce   \n",
       "6                               General Administration & Finance   \n",
       "6                               General Administration & Finance   \n",
       "2                        Public Works, Transportation & Commerce   \n",
       "\n",
       "                        Department Code                     Department  \\\n",
       "Organization Group Code                                                  \n",
       "4                                   DPH                  Public Health   \n",
       "2                                   MTA  Municipal Transportation Agcy   \n",
       "6                                   TIS       Department of Technology   \n",
       "6                                   ADM        Administrative Services   \n",
       "2                                   MTA  Municipal Transportation Agcy   \n",
       "\n",
       "                         Union Code                         Union  \\\n",
       "Organization Group Code                                             \n",
       "4                               791          SEIU, Local 1021, RN   \n",
       "2                               254    TWU, Local 250-A, TranFare   \n",
       "6                                 6   Electrical Workers, Local 6   \n",
       "6                                21     Prof & Tech Eng, Local 21   \n",
       "2                               253  TWU, Local 250-A, TransitOpr   \n",
       "\n",
       "                                        Job Family  ... Employee Identifier  \\\n",
       "Organization Group Code                             ...                       \n",
       "4                                          Nursing  ...          40366155.0   \n",
       "2                                   Street Transit  ...          37069215.0   \n",
       "6                                 Journeyman Trade  ...          37065107.0   \n",
       "6                        Lab, Pharmacy & Med Techs  ...          36994464.0   \n",
       "2                                   Street Transit  ...          36646187.0   \n",
       "\n",
       "                         Salaries  Overtime  Other Salaries  Total Salary  \\\n",
       "Organization Group Code                                                     \n",
       "4                        12267.90      0.00         1215.37      13483.27   \n",
       "2                        12767.26      0.00          789.81      13557.07   \n",
       "6                        91207.10  18112.11         1176.29     110495.50   \n",
       "6                        98193.20      0.00            0.00      98193.20   \n",
       "2                        71810.85  10212.07         2210.55      84233.47   \n",
       "\n",
       "                         Retirement  Health and Dental  Other Benefits  \\\n",
       "Organization Group Code                                                  \n",
       "4                           2510.58            1533.75         1048.37   \n",
       "2                           2411.14            8936.21         1067.10   \n",
       "6                           7373.29           13925.33         8821.70   \n",
       "6                          18376.29           14010.17         7944.24   \n",
       "2                          14960.01           14490.19         6221.63   \n",
       "\n",
       "                         Total Benefits  Total Compensation  \n",
       "Organization Group Code                                      \n",
       "4                               5092.70            18575.97  \n",
       "2                              12414.45            25971.52  \n",
       "6                              30120.32           140615.82  \n",
       "6                              40330.70           138523.90  \n",
       "2                              35671.83           119905.30  \n",
       "\n",
       "[5 rows x 21 columns]"
      ]
     },
     "execution_count": 36,
     "metadata": {},
     "output_type": "execute_result"
    }
   ],
   "source": [
    "employee_df[employee_df['Year'].isin([2017, 2019])].sort_values(\"Year\", ascending=False).sample(5)"
   ]
  },
  {
   "cell_type": "code",
   "execution_count": null,
   "id": "ae9a50ab-c17c-46ec-90c1-acb1fab3bc5f",
   "metadata": {},
   "outputs": [],
   "source": []
  }
 ],
 "metadata": {
  "kernelspec": {
   "display_name": "Python 3 (ipykernel)",
   "language": "python",
   "name": "python3"
  },
  "language_info": {
   "codemirror_mode": {
    "name": "ipython",
    "version": 3
   },
   "file_extension": ".py",
   "mimetype": "text/x-python",
   "name": "python",
   "nbconvert_exporter": "python",
   "pygments_lexer": "ipython3",
   "version": "3.12.3"
  }
 },
 "nbformat": 4,
 "nbformat_minor": 5
}
