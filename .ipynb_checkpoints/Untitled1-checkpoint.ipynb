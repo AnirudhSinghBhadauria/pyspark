{
 "cells": [
  {
   "cell_type": "code",
   "execution_count": 1,
   "id": "43dddc2c-0dff-415b-a3cb-f189745d7552",
   "metadata": {},
   "outputs": [],
   "source": [
    "import pandas as pd"
   ]
  },
  {
   "cell_type": "code",
   "execution_count": 1,
   "id": "f68d4102-66e5-4279-8360-7076a5fd1967",
   "metadata": {},
   "outputs": [
    {
     "name": "stdout",
     "output_type": "stream",
     "text": [
      "done for the thing one\n"
     ]
    }
   ],
   "source": [
    "print('done for the thing one')"
   ]
  },
  {
   "cell_type": "code",
   "execution_count": 1,
   "id": "b4b2183c-6fbf-417d-9b1b-dfba662b2d85",
   "metadata": {},
   "outputs": [],
   "source": [
    "title = 'My Mom & Me - Wholesome Parenting Podcast | Swati Allahbadia | TR'"
   ]
  },
  {
   "cell_type": "code",
   "execution_count": 5,
   "id": "f3b280d1-09cd-4a4a-bd28-26a91faf20f2",
   "metadata": {},
   "outputs": [],
   "source": [
    "video_id = '9nXyh38kXTs'"
   ]
  },
  {
   "cell_type": "code",
   "execution_count": 20,
   "id": "c69521e5-b281-4b93-adb8-4c147c021c77",
   "metadata": {},
   "outputs": [
    {
     "data": {
      "text/plain": [
       "'MyMomMeWh-9nXyh38kXTs-2024-10-16T15:30:02Z'"
      ]
     },
     "execution_count": 20,
     "metadata": {},
     "output_type": "execute_result"
    }
   ],
   "source": [
    "f\"{\"\".join([char for char in title[:16] if char.isalnum()])}-{video_id}-{'2024-10-16T15:30:02Z'}\""
   ]
  },
  {
   "cell_type": "code",
   "execution_count": 21,
   "id": "55ed5701-b31f-4f66-b330-e533bdd3485c",
   "metadata": {},
   "outputs": [
    {
     "name": "stdout",
     "output_type": "stream",
     "text": [
      "20241018072508\n"
     ]
    }
   ],
   "source": [
    "def generate_timestamp(timestamp):\n",
    "    timestamp_object = datetime.strptime(timestamp, \"%Y-%m-%dT%H:%M:%SZ\")\n",
    "    desired_format = timestamp_object.strftime(\"%Y%m%d%H%M%S\")\n",
    "    \n",
    "    return desired_format"
   ]
  },
  {
   "cell_type": "code",
   "execution_count": 1,
   "id": "bb912891-978b-427b-bf5c-d66261d0a1e1",
   "metadata": {},
   "outputs": [
    {
     "name": "stdout",
     "output_type": "stream",
     "text": [
      "thsi is the thing\n"
     ]
    }
   ],
   "source": [
    "print('thsi is the thing')"
   ]
  }
 ],
 "metadata": {
  "kernelspec": {
   "display_name": "Python 3 (ipykernel)",
   "language": "python",
   "name": "python3"
  },
  "language_info": {
   "codemirror_mode": {
    "name": "ipython",
    "version": 3
   },
   "file_extension": ".py",
   "mimetype": "text/x-python",
   "name": "python",
   "nbconvert_exporter": "python",
   "pygments_lexer": "ipython3",
   "version": "3.12.3"
  }
 },
 "nbformat": 4,
 "nbformat_minor": 5
}
