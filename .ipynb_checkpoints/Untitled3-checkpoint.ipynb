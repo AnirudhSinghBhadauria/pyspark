{
 "cells": [
  {
   "cell_type": "code",
   "execution_count": 12,
   "id": "be4d2470-ef28-439e-bb0a-24031bd0fa47",
   "metadata": {},
   "outputs": [],
   "source": [
    "filename = 'BuildingaPCUs%56uCjW56HWI%20241125180527'"
   ]
  },
  {
   "cell_type": "code",
   "execution_count": 13,
   "id": "ee64e154-fb79-42b3-9472-d5ad560bac8a",
   "metadata": {},
   "outputs": [
    {
     "data": {
      "text/plain": [
       "['BuildingaPCUs', '56uCjW56HWI', '20241125180527']"
      ]
     },
     "execution_count": 13,
     "metadata": {},
     "output_type": "execute_result"
    }
   ],
   "source": [
    "filename.split(\"%\")"
   ]
  },
  {
   "cell_type": "code",
   "execution_count": 14,
   "id": "f6b13926-9328-4b16-8c5a-8d2902426f31",
   "metadata": {},
   "outputs": [
    {
     "data": {
      "text/plain": [
       "40"
      ]
     },
     "execution_count": 14,
     "metadata": {},
     "output_type": "execute_result"
    }
   ],
   "source": [
    "len(filename)"
   ]
  },
  {
   "cell_type": "code",
   "execution_count": 15,
   "id": "13879693-34df-430d-b048-770f2b6a55c5",
   "metadata": {},
   "outputs": [],
   "source": [
    "modified_filename = 'part9'.join(filename.split(\"%\"))"
   ]
  },
  {
   "cell_type": "code",
   "execution_count": 16,
   "id": "9393f6b0-2dbe-42b2-938d-5cbd396c248a",
   "metadata": {},
   "outputs": [
    {
     "data": {
      "text/plain": [
       "'BuildingaPCUspart956uCjW56HWIpart920241125180527'"
      ]
     },
     "execution_count": 16,
     "metadata": {},
     "output_type": "execute_result"
    }
   ],
   "source": [
    "modified_filename"
   ]
  },
  {
   "cell_type": "code",
   "execution_count": 18,
   "id": "a7b36140-0c64-492d-88a2-1897f6c7530b",
   "metadata": {},
   "outputs": [
    {
     "data": {
      "text/plain": [
       "48"
      ]
     },
     "execution_count": 18,
     "metadata": {},
     "output_type": "execute_result"
    }
   ],
   "source": [
    "len(modified_filename)"
   ]
  },
  {
   "cell_type": "code",
   "execution_count": 17,
   "id": "4af931e9-fa25-4050-a318-7386336d87be",
   "metadata": {},
   "outputs": [
    {
     "data": {
      "text/plain": [
       "['BuildingaPCUs', '56uCjW56HWI', '20241125180527']"
      ]
     },
     "execution_count": 17,
     "metadata": {},
     "output_type": "execute_result"
    }
   ],
   "source": [
    "modified_filename.split(\"part9\")"
   ]
  },
  {
   "cell_type": "code",
   "execution_count": 2,
   "id": "1f564883-fe3a-4cc1-9435-3edf97384cd5",
   "metadata": {},
   "outputs": [
    {
     "name": "stdout",
     "output_type": "stream",
     "text": [
      "done this for things\n"
     ]
    }
   ],
   "source": [
    "print('done this for things')"
   ]
  }
 ],
 "metadata": {
  "kernelspec": {
   "display_name": "Python 3 (ipykernel)",
   "language": "python",
   "name": "python3"
  },
  "language_info": {
   "codemirror_mode": {
    "name": "ipython",
    "version": 3
   },
   "file_extension": ".py",
   "mimetype": "text/x-python",
   "name": "python",
   "nbconvert_exporter": "python",
   "pygments_lexer": "ipython3",
   "version": "3.12.3"
  }
 },
 "nbformat": 4,
 "nbformat_minor": 5
}
