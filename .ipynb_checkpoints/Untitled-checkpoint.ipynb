{
 "cells": [
  {
   "cell_type": "code",
   "execution_count": 1,
   "id": "ad1c9132-b93d-473a-9f80-dd0de78f7141",
   "metadata": {},
   "outputs": [],
   "source": [
    "import pandas as pd\n",
    "import numpy as np"
   ]
  },
  {
   "cell_type": "code",
   "execution_count": null,
   "id": "adcab979-d658-45e6-97c4-4bf2421a4f17",
   "metadata": {},
   "outputs": [],
   "source": [
    "employee_df = pd.read_csv(\"data/titanic.csv\")"
   ]
  },
  {
   "cell_type": "code",
   "execution_count": null,
   "id": "5a766b12-b3c9-49de-941b-6f3457399275",
   "metadata": {},
   "outputs": [],
   "source": [
    "employee_df = employee_df.dropna() \\\n",
    "                        .drop_duplicates() \\\n",
    "                        .drop(columns=['SibSp'])"
   ]
  },
  {
   "cell_type": "code",
   "execution_count": null,
   "id": "82bf01a7-7525-4612-9bca-550cd07f8bab",
   "metadata": {},
   "outputs": [],
   "source": [
    "employee_df.head()"
   ]
  },
  {
   "cell_type": "code",
   "execution_count": null,
   "id": "8c77a059-8ff9-4a4c-bdeb-b47f3d69e5cf",
   "metadata": {},
   "outputs": [],
   "source": [
    "employee_df.columns"
   ]
  },
  {
   "cell_type": "code",
   "execution_count": null,
   "id": "aef5d3e5-fbc3-478f-b850-5a0335b1b49d",
   "metadata": {},
   "outputs": [],
   "source": [
    "employee_df.loc[\n",
    "    (~employee_df['Name'].isna()) &\n",
    "    (employee_df['Sex'] == 'male') &\n",
    "    (employee_df['Age'].isin(list(range(18, 61)))) &\n",
    "    (employee_df['Survived'] == 1)\n",
    "]"
   ]
  },
  {
   "cell_type": "code",
   "execution_count": null,
   "id": "6d15ef87-5ed5-4bb8-b8b0-20f40c154a63",
   "metadata": {},
   "outputs": [],
   "source": [
    "employee_df.rename(columns={\"PassengerId\": \"Passenger_Id\"})"
   ]
  },
  {
   "cell_type": "code",
   "execution_count": null,
   "id": "9abffacc-2221-4fab-bf20-873ae0bc97dc",
   "metadata": {},
   "outputs": [],
   "source": [
    "employee_df.head()"
   ]
  },
  {
   "cell_type": "code",
   "execution_count": 14,
   "id": "037ca064-840f-4428-90a2-5a2d896e2da8",
   "metadata": {},
   "outputs": [
    {
     "data": {
      "text/plain": [
       "Index(['PassengerId', 'Survived', 'Pclass', 'Name', 'Sex', 'Age', 'Parch',\n",
       "       'Ticket', 'Fare', 'Cabin', 'Embarked'],\n",
       "      dtype='object')"
      ]
     },
     "execution_count": 14,
     "metadata": {},
     "output_type": "execute_result"
    }
   ],
   "source": [
    "employee_df.columns"
   ]
  },
  {
   "cell_type": "code",
   "execution_count": null,
   "id": "b3c1378c-bcb1-458a-909a-86efe0fcfa3c",
   "metadata": {},
   "outputs": [],
   "source": []
  },
  {
   "cell_type": "code",
   "execution_count": null,
   "id": "258d1ca7-8042-4ac9-be92-1f933b33900a",
   "metadata": {},
   "outputs": [],
   "source": []
  },
  {
   "cell_type": "code",
   "execution_count": null,
   "id": "e8d3bfab-a0c0-4a9c-88a9-f98408fcce15",
   "metadata": {},
   "outputs": [],
   "source": []
  }
 ],
 "metadata": {
  "kernelspec": {
   "display_name": "Python 3 (ipykernel)",
   "language": "python",
   "name": "python3"
  },
  "language_info": {
   "codemirror_mode": {
    "name": "ipython",
    "version": 3
   },
   "file_extension": ".py",
   "mimetype": "text/x-python",
   "name": "python",
   "nbconvert_exporter": "python",
   "pygments_lexer": "ipython3",
   "version": "3.12.3"
  }
 },
 "nbformat": 4,
 "nbformat_minor": 5
}
