{
 "cells": [
  {
   "cell_type": "code",
   "execution_count": null,
   "id": "ad1c9132-b93d-473a-9f80-dd0de78f7141",
   "metadata": {},
   "outputs": [],
   "source": [
    "import numpy as np\n",
    "import pandas as pd"
   ]
  },
  {
   "cell_type": "code",
   "execution_count": null,
   "id": "adcab979-d658-45e6-97c4-4bf2421a4f17",
   "metadata": {},
   "outputs": [],
   "source": [
    "employee_df = pd.read_csv(\"data/titanic.csv\")"
   ]
  },
  {
   "cell_type": "code",
   "execution_count": null,
   "id": "5a766b12-b3c9-49de-941b-6f3457399275",
   "metadata": {},
   "outputs": [],
   "source": [
    "employee_df = employee_df.dropna() \\\n",
    "                        .drop_duplicates() \\\n",
    "                        .drop(columns=['SibSp'])"
   ]
  },
  {
   "cell_type": "code",
   "execution_count": null,
   "id": "82bf01a7-7525-4612-9bca-550cd07f8bab",
   "metadata": {},
   "outputs": [],
   "source": [
    "employee_df.head()"
   ]
  },
  {
   "cell_type": "code",
   "execution_count": null,
   "id": "8c77a059-8ff9-4a4c-bdeb-b47f3d69e5cf",
   "metadata": {},
   "outputs": [],
   "source": [
    "employee_df.columns"
   ]
  },
  {
   "cell_type": "code",
   "execution_count": null,
   "id": "aef5d3e5-fbc3-478f-b850-5a0335b1b49d",
   "metadata": {},
   "outputs": [],
   "source": [
    "employee_df.loc[\n",
    "    (~employee_df['Name'].isna()) &\n",
    "    (employee_df['Sex'] == 'male') &\n",
    "    (employee_df['Age'].isin(list(range(18, 61)))) &\n",
    "    (employee_df['Survived'] == 1)\n",
    "]"
   ]
  },
  {
   "cell_type": "code",
   "execution_count": null,
   "id": "6d15ef87-5ed5-4bb8-b8b0-20f40c154a63",
   "metadata": {},
   "outputs": [],
   "source": [
    "employee_df.rename(columns={\"PassengerId\": \"Passenger_Id\"})"
   ]
  },
  {
   "cell_type": "code",
   "execution_count": null,
   "id": "9abffacc-2221-4fab-bf20-873ae0bc97dc",
   "metadata": {},
   "outputs": [],
   "source": [
    "employee_df.shape"
   ]
  },
  {
   "cell_type": "code",
   "execution_count": null,
   "id": "e104789a-0e77-48fb-b9c4-9846ec06f3ac",
   "metadata": {},
   "outputs": [],
   "source": [
    "employee_df.info()"
   ]
  },
  {
   "cell_type": "code",
   "execution_count": null,
   "id": "8462510c-d46c-45a8-a6ec-10b85d91bf67",
   "metadata": {},
   "outputs": [],
   "source": [
    "employee_df.size"
   ]
  },
  {
   "cell_type": "code",
   "execution_count": null,
   "id": "4a245b33-46d4-4bca-95c8-e21b52bff3d8",
   "metadata": {},
   "outputs": [],
   "source": [
    "employee_df.columns"
   ]
  },
  {
   "cell_type": "code",
   "execution_count": null,
   "id": "0117fc7c-a6ca-4bcc-ba9e-c5a7aa95dc1d",
   "metadata": {},
   "outputs": [],
   "source": [
    "employee_df.set_index(\"PassengerId\")"
   ]
  },
  {
   "cell_type": "code",
   "execution_count": 20,
   "id": "d1db9c78-f95e-4fc7-b6d0-865d65554823",
   "metadata": {},
   "outputs": [
    {
     "data": {
      "text/plain": [
       "array([[  1.,  12.,  23.,  34.,  45.],\n",
       "       [ 56.,  67.,  78.,  89., 100.]])"
      ]
     },
     "execution_count": 20,
     "metadata": {},
     "output_type": "execute_result"
    }
   ],
   "source": [
    "np.linspace(1, 100, 10).reshape(2, 5)"
   ]
  },
  {
   "cell_type": "code",
   "execution_count": 32,
   "id": "a0378168-31f7-4566-8618-2f1cf9554ce6",
   "metadata": {},
   "outputs": [
    {
     "data": {
      "text/plain": [
       "array([[ 1, 11, 21, 31, 41],\n",
       "       [51, 61, 71, 81, 91]])"
      ]
     },
     "execution_count": 32,
     "metadata": {},
     "output_type": "execute_result"
    }
   ],
   "source": [
    "np.arange(1, 100, 10).reshape(2, 5)"
   ]
  }
 ],
 "metadata": {
  "kernelspec": {
   "display_name": "Python 3 (ipykernel)",
   "language": "python",
   "name": "python3"
  },
  "language_info": {
   "codemirror_mode": {
    "name": "ipython",
    "version": 3
   },
   "file_extension": ".py",
   "mimetype": "text/x-python",
   "name": "python",
   "nbconvert_exporter": "python",
   "pygments_lexer": "ipython3",
   "version": "3.12.3"
  }
 },
 "nbformat": 4,
 "nbformat_minor": 5
}
