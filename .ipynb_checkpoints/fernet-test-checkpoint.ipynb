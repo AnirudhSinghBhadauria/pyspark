{
 "cells": [
  {
   "cell_type": "code",
   "execution_count": 3,
   "id": "80740325-5fd6-49d5-bf97-22af597fc5f7",
   "metadata": {},
   "outputs": [],
   "source": [
    "from cryptography.fernet import Fernet"
   ]
  },
  {
   "cell_type": "code",
   "execution_count": 4,
   "id": "e788c0b1-a98b-4f86-8929-d3e145c32c12",
   "metadata": {},
   "outputs": [],
   "source": [
    "key = Fernet.generate_key()"
   ]
  },
  {
   "cell_type": "code",
   "execution_count": 5,
   "id": "b58fe1e1-ef6e-4c51-890b-859882cf2acd",
   "metadata": {},
   "outputs": [
    {
     "data": {
      "text/plain": [
       "b'zP8-yB1esg8mN9XkT5ZGjKsZHiqFuxzW4ujYOa0kngc='"
      ]
     },
     "execution_count": 5,
     "metadata": {},
     "output_type": "execute_result"
    }
   ],
   "source": [
    "key"
   ]
  },
  {
   "cell_type": "code",
   "execution_count": 19,
   "id": "bca987e7-9b29-4efe-9ca1-eacec444bf67",
   "metadata": {},
   "outputs": [],
   "source": [
    "f = Fernet(key)"
   ]
  },
  {
   "cell_type": "code",
   "execution_count": 17,
   "id": "93071e1d-ce1c-4539-862d-c5226b0ea7f1",
   "metadata": {},
   "outputs": [],
   "source": [
    "token = f.encrypt(b\"anirudh\")"
   ]
  },
  {
   "cell_type": "code",
   "execution_count": 18,
   "id": "b4bf389c-5699-407a-9c7f-abb978dbf68b",
   "metadata": {},
   "outputs": [
    {
     "data": {
      "text/plain": [
       "b'anirudh'"
      ]
     },
     "execution_count": 18,
     "metadata": {},
     "output_type": "execute_result"
    }
   ],
   "source": [
    "f.decrypt(token)"
   ]
  },
  {
   "cell_type": "code",
   "execution_count": null,
   "id": "dcc8e369-3c90-4641-9cdc-4e0b3a84a82f",
   "metadata": {},
   "outputs": [],
   "source": []
  },
  {
   "cell_type": "code",
   "execution_count": 23,
   "id": "79c1d512-0975-4c67-a707-5edfc696c1c3",
   "metadata": {},
   "outputs": [
    {
     "data": {
      "text/plain": [
       "b'gAAAAABnUCNjy5sR-F2IhRR3aYbUEKrI5iYX72J5LgVHPWJA0bI20Td7ATkI9d6V1rIYNpir3wef0ezc63RxlpyHjWUP4O7KhA=='"
      ]
     },
     "execution_count": 23,
     "metadata": {},
     "output_type": "execute_result"
    }
   ],
   "source": [
    "import base64\n",
    "import os\n",
    "from cryptography.fernet import Fernet\n",
    "from cryptography.hazmat.primitives import hashes\n",
    "from cryptography.hazmat.primitives.kdf.pbkdf2 import PBKDF2HMAC\n",
    "\n",
    "password = b\"password\"\n",
    "salt = os.urandom(16)\n",
    "kdf = PBKDF2HMAC(\n",
    "    algorithm=hashes.SHA256(),\n",
    "    length=32,\n",
    "    salt=salt,\n",
    "    iterations=480000,\n",
    ")\n",
    "key = base64.urlsafe_b64encode(kdf.derive(password))\n",
    "f = Fernet(key)\n",
    "token = f.encrypt(b\"Secret message!\")\n",
    "token"
   ]
  },
  {
   "cell_type": "code",
   "execution_count": 1,
   "id": "0ee19e81-e9a7-49ee-9dee-29efd6f07334",
   "metadata": {},
   "outputs": [
    {
     "name": "stdout",
     "output_type": "stream",
     "text": [
      "done for now! done! done!\n"
     ]
    }
   ],
   "source": [
    "print('done for now! done! done!')"
   ]
  }
 ],
 "metadata": {
  "kernelspec": {
   "display_name": "Python 3 (ipykernel)",
   "language": "python",
   "name": "python3"
  },
  "language_info": {
   "codemirror_mode": {
    "name": "ipython",
    "version": 3
   },
   "file_extension": ".py",
   "mimetype": "text/x-python",
   "name": "python",
   "nbconvert_exporter": "python",
   "pygments_lexer": "ipython3",
   "version": "3.12.3"
  }
 },
 "nbformat": 4,
 "nbformat_minor": 5
}
