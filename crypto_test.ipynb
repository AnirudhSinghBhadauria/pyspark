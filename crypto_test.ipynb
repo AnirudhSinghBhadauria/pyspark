{
  "nbformat": 4,
  "nbformat_minor": 0,
  "metadata": {
    "colab": {
      "provenance": [],
      "include_colab_link": true
    },
    "kernelspec": {
      "name": "python3",
      "display_name": "Python 3"
    },
    "language_info": {
      "name": "python"
    }
  },
  "cells": [
    {
      "cell_type": "markdown",
      "metadata": {
        "id": "view-in-github",
        "colab_type": "text"
      },
      "source": [
        "<a href=\"https://colab.research.google.com/github/AnirudhSinghBhadauria/pyspark/blob/main/crypto_test.ipynb\" target=\"_parent\"><img src=\"https://colab.research.google.com/assets/colab-badge.svg\" alt=\"Open In Colab\"/></a>"
      ]
    },
    {
      "cell_type": "code",
      "source": [
        "# from google.colab import drive\n",
        "# drive.mount('/content/drive', force_remount = True)"
      ],
      "metadata": {
        "id": "_SRNgGCbfWZw"
      },
      "execution_count": 97,
      "outputs": []
    },
    {
      "cell_type": "code",
      "source": [
        "import time\n",
        "import requests\n",
        "from concurrent.futures import ThreadPoolExecutor, as_completed\n",
        "\n",
        "import numpy as np\n",
        "import matplotlib.pyplot as plt\n",
        "\n",
        "from pyspark.sql.types import *\n",
        "from pyspark import StorageLevel\n",
        "from pyspark.sql.functions import *\n",
        "from pyspark.sql import SparkSession\n",
        "from pyspark.sql.window import Window"
      ],
      "metadata": {
        "id": "jv8-vpfzUTEJ"
      },
      "execution_count": 98,
      "outputs": []
    },
    {
      "cell_type": "code",
      "source": [
        "spark = SparkSession.builder.appName('crypto-test').getOrCreate()"
      ],
      "metadata": {
        "id": "yS0DVBt9Ujzw"
      },
      "execution_count": 99,
      "outputs": []
    },
    {
      "cell_type": "code",
      "source": [
        "crypto_df = (\n",
        "    spark.read.format(\"csv\")\n",
        "    .option(\"mode\", \"FAILFAST\")\n",
        "    .option(\"inferSchema\", \"true\")\n",
        "    .option(\"skipRows\", 0)\n",
        "    .option(\"header\", \"true\")\n",
        "    .load(\"drive/MyDrive/crypto_tradinds.csv\")\n",
        ")"
      ],
      "metadata": {
        "id": "h41SVP53oTkQ"
      },
      "execution_count": 113,
      "outputs": []
    },
    {
      "cell_type": "code",
      "source": [
        "unwanted_columns = [\n",
        "    'site_url',\n",
        "    'github_url',\n",
        "    'crypto_type',\n",
        "    'BTC_price_change_1_day',\n",
        "    'industry_name',\n",
        "    'price_btc'\n",
        "]\n",
        "\n",
        "crypto_df = crypto_df.select(\n",
        "    [column for column in crypto_df.columns if column not in unwanted_columns]\n",
        ")"
      ],
      "metadata": {
        "id": "y9LSTtx5ucGj"
      },
      "execution_count": 114,
      "outputs": []
    },
    {
      "cell_type": "code",
      "source": [
        "# crypto_df = crypto_df.dropDuplicates()"
      ],
      "metadata": {
        "id": "1cSsPPt8uCYT"
      },
      "execution_count": 115,
      "outputs": []
    },
    {
      "cell_type": "code",
      "source": [
        "def remove_outliers(df, group_col, target_col):\n",
        "    quantiles = df.groupBy(group_col).agg(\n",
        "        expr(f\"percentile_approx({target_col}, 0.25)\").alias(\"Q1\"),\n",
        "        expr(f\"percentile_approx({target_col}, 0.75)\").alias(\"Q3\")\n",
        "    )\n",
        "\n",
        "    quantiles = quantiles.withColumn(\"IQR\", col(\"Q3\") - col(\"Q1\")) \\\n",
        "                         .withColumn(\"lower_bound\", col(\"Q1\") - 1.5 * col(\"IQR\")) \\\n",
        "                         .withColumn(\"upper_bound\", col(\"Q3\") + 1.5 * col(\"IQR\"))\n",
        "\n",
        "    df_with_bounds = df.join(quantiles, on=group_col, how=\"left\")\n",
        "\n",
        "    cleaned_df = df_with_bounds.filter(\n",
        "        (col(target_col) >= col(\"lower_bound\")) &\n",
        "        (col(target_col) <= col(\"upper_bound\"))\n",
        "    ).drop(\"Q1\", \"Q3\", \"IQR\", \"lower_bound\", \"upper_bound\")\n",
        "\n",
        "    return cleaned_df\n",
        "\n",
        "crypto_df = remove_outliers(crypto_df, \"crypto_name\", \"price_usd\")"
      ],
      "metadata": {
        "id": "StEG02zit-qs"
      },
      "execution_count": 116,
      "outputs": []
    },
    {
      "cell_type": "code",
      "source": [
        "crypto_df.persist(StorageLevel.MEMORY_ONLY)"
      ],
      "metadata": {
        "id": "W339JGeHySJz",
        "colab": {
          "base_uri": "https://localhost:8080/"
        },
        "outputId": "da39c38a-745d-4c5b-9e34-e65fe0d4b448"
      },
      "execution_count": 117,
      "outputs": [
        {
          "output_type": "execute_result",
          "data": {
            "text/plain": [
              "DataFrame[crypto_name: string, trade_date: date, volume: double, price_usd: double, market_cap: double, capitalization_change_1_day: double, USD_price_change_1_day: double, ticker: string, max_supply: bigint, minable: int, platform_name: string]"
            ]
          },
          "metadata": {},
          "execution_count": 117
        }
      ]
    },
    {
      "cell_type": "code",
      "source": [
        "(\n",
        "    crypto_df\n",
        "    .select(\"crypto_name\")\n",
        "    .distinct()\n",
        "    .sample(fraction=0.0001)\n",
        "    # .show()\n",
        ")"
      ],
      "metadata": {
        "colab": {
          "base_uri": "https://localhost:8080/"
        },
        "id": "6nl2eCOqj7Wa",
        "outputId": "9e78bcd9-2866-410a-cdd8-b940e6e0f961"
      },
      "execution_count": 118,
      "outputs": [
        {
          "output_type": "execute_result",
          "data": {
            "text/plain": [
              "DataFrame[crypto_name: string]"
            ]
          },
          "metadata": {},
          "execution_count": 118
        }
      ]
    },
    {
      "cell_type": "code",
      "source": [
        "def get_crypto(ticker_name: str):\n",
        "  crypto_df.filter(\n",
        "      col(\"ticker\") == ticker_name\n",
        "  ).show()"
      ],
      "metadata": {
        "id": "Fv7hyW2Vo5XU"
      },
      "execution_count": 119,
      "outputs": []
    },
    {
      "cell_type": "code",
      "source": [
        "# @title Rolling Averages for any crypto currency!\n",
        "ticker = \"ETH\" # @param {\"type\":\"string\",\"placeholder\":\"Enter ticker tag of the crypto\"}\n",
        "def rolling_average(currency, days):\n",
        "  window = (Window.orderBy(\"trade_date\").rowsBetween(-(days), 0))\n",
        "\n",
        "  rolling_average_currency = (\n",
        "      crypto_df\n",
        "      .filter(\n",
        "          col(\"ticker\") == currency\n",
        "      )\n",
        "      .withColumn(\n",
        "          \"rolling_average\",\n",
        "          round(avg(\"price_usd\").over(window), 3)\n",
        "      )\n",
        "  )\n",
        "\n",
        "  y_value = [ravg.rolling_average for ravg in rolling_average_currency.select(\"rolling_average\").collect()]\n",
        "  x_value = [tdate.trade_date for tdate in rolling_average_currency.select(\"trade_date\").collect()]\n",
        "\n",
        "  plt.plot(x_value, y_value)\n",
        "  plt.show()\n",
        "\n",
        "rolling_average(ticker, 6)"
      ],
      "metadata": {
        "id": "eSIjhbSGx42W",
        "colab": {
          "base_uri": "https://localhost:8080/",
          "height": 430
        },
        "cellView": "form",
        "outputId": "5d1eab98-a77f-4783-b24e-b7dc6e13b674"
      },
      "execution_count": 221,
      "outputs": [
        {
          "output_type": "display_data",
          "data": {
            "text/plain": [
              "<Figure size 640x480 with 1 Axes>"
            ],
            "image/png": "[encoded data removed]"
          },
          "metadata": {}
        }
      ]
    },
    {
      "cell_type": "code",
      "source": [
        "# (\n",
        "#   crypto_df\n",
        "#   .select([\"ticker\", \"crypto_name\"])\n",
        "#   .distinct()\n",
        "#   .sample(fraction = 0.5)\n",
        "#   .show(n = crypto_df.count(), truncate = False)\n",
        "# )"
      ],
      "metadata": {
        "id": "HWlBHCBnPwZg"
      },
      "execution_count": 122,
      "outputs": []
    },
    {
      "cell_type": "code",
      "source": [
        "# @title Get current price of selected cryptos\n",
        "def get_price_inr(usd_price):\n",
        "    try:\n",
        "        response = requests.get(\n",
        "            \"https://anyapi.io/api/v1/exchange/convert\",\n",
        "            params={\n",
        "                'base': 'USD',\n",
        "                'to': 'INR',\n",
        "                'amount': usd_price,\n",
        "                'apiKey': '6ht7uuqsuro70e9fpp7lioi3vnie9j5sos70fd4i6j0ooloj2q4t1j'\n",
        "            },\n",
        "            timeout=10\n",
        "        )\n",
        "        response.raise_for_status()\n",
        "        return response.json().get('converted')\n",
        "    except requests.RequestException as e:\n",
        "        print(f\"Error converting price: {e}\")\n",
        "        return None\n",
        "\n",
        "def ticker():\n",
        "    coins_to_fetch = {\n",
        "        'Bitcoin', 'Ethereum', 'Solana', 'Sui',\n",
        "        'Dogecoin', 'Polygon Ecosystem Token'\n",
        "    }\n",
        "\n",
        "    try:\n",
        "        response = requests.get(\n",
        "            \"https://api.coinpaprika.com/v1/tickers/\",\n",
        "            timeout=10\n",
        "        )\n",
        "        response.raise_for_status()\n",
        "        data = response.json()\n",
        "    except requests.RequestException as e:\n",
        "        print(f\"Error fetching tickers: {e}\")\n",
        "        return []\n",
        "\n",
        "    processed_coins = []\n",
        "\n",
        "    with ThreadPoolExecutor() as executor:\n",
        "        future_to_coin = {\n",
        "            executor.submit(process_coin, coin): coin for coin in data if coin['name'] in coins_to_fetch\n",
        "        }\n",
        "\n",
        "        for future in as_completed(future_to_coin):\n",
        "            coin = future_to_coin[future]\n",
        "            try:\n",
        "                processed_coin = future.result()\n",
        "                if processed_coin:\n",
        "                    processed_coins.append(processed_coin)\n",
        "            except Exception as e:\n",
        "                print(f\"Error processing coin {coin['name']}: {e}\")\n",
        "\n",
        "    return processed_coins\n",
        "\n",
        "def process_coin(coin):\n",
        "    processed_coin = coin.copy()\n",
        "    usd_price = coin['quotes']['USD']['price']\n",
        "    processed_coin['quotes']['INR'] = get_price_inr(usd_price)\n",
        "    return processed_coin\n",
        "\n",
        "if __name__ == \"__main__\":\n",
        "    crypto_data = ticker()\n",
        "\n",
        "    crypto_extracted_df = spark.createDataFrame(crypto_data)\n",
        "    crypto_extracted_df = crypto_extracted_df.select(\n",
        "      \"name\", \"symbol\", \"rank\", \"total_supply\",\n",
        "      \"max_supply\", \"last_updated\",\n",
        "      col(\"quotes.USD.price\").alias(\"usd_price\"),\n",
        "      col(\"quotes.USD.volume_24h\").alias(\"usd_volume_24h\"),\n",
        "      col(\"quotes.USD.market_cap\").alias(\"usd_market_cap\"),\n",
        "      col(\"quotes.INR\").alias(\"inr_price\")\n",
        "    )\n",
        "\n",
        "crypto_extracted_df.show()"
      ],
      "metadata": {
        "id": "xRpxvCOYTNIq"
      },
      "execution_count": null,
      "outputs": []
    },
    {
      "cell_type": "code",
      "source": [
        "# @title Find the average Market cap and price of any currency for year 2016 - 2021\n",
        "def find_avg_marketcap(ticker: str):\n",
        "    result = (\n",
        "        crypto_df\n",
        "        .filter(col(\"ticker\") == ticker)\n",
        "        .agg(\n",
        "            round(avg(\"market_cap\"), 3).alias(\"avg_market_cap\"),\n",
        "            round(avg(\"price_usd\"), 3).alias(\"price_usd\")\n",
        "        )\n",
        "        .first()\n",
        "    )\n",
        "\n",
        "    return (\n",
        "        result[\"avg_market_cap\"],\n",
        "        result[\"price_usd\"]\n",
        "    )\n",
        "\n",
        "find_avg_marketcap(\"ETH\")"
      ],
      "metadata": {
        "colab": {
          "base_uri": "https://localhost:8080/"
        },
        "id": "UoZDF35uJF4_",
        "outputId": "10c1a8c7-c62c-4387-dc38-866213540a8c"
      },
      "execution_count": 195,
      "outputs": [
        {
          "output_type": "execute_result",
          "data": {
            "text/plain": [
              "(19905058804.732, 193.797)"
            ]
          },
          "metadata": {},
          "execution_count": 195
        }
      ]
    },
    {
      "cell_type": "code",
      "source": [
        "# @title Top 5 most volatile crypto currencies in 2016 - 2021\n",
        "(\n",
        "    crypto_df\n",
        "    .select([\"crypto_name\", \"USD_price_change_1_day\"])\n",
        "    .groupBy(\"crypto_name\")\n",
        "    .agg(avg(col(\"USD_price_change_1_day\")).alias(\"avg_price_change ($)\"))\n",
        "    .withColumn(\"avg_price_change ($)\", round(col(\"avg_price_change ($)\"), 3))\n",
        "    .sort(col(\"avg_price_change ($)\").desc())\n",
        "    .show(5, truncate=False)\n",
        ")"
      ],
      "metadata": {
        "id": "o2Qk-49PUyhG",
        "outputId": "5129f493-ac69-4129-c911-c40f61fffe59",
        "colab": {
          "base_uri": "https://localhost:8080/"
        }
      },
      "execution_count": 218,
      "outputs": [
        {
          "output_type": "stream",
          "name": "stdout",
          "text": [
            "+---------------------------+--------------------+\n",
            "|crypto_name                |avg_price_change ($)|\n",
            "+---------------------------+--------------------+\n",
            "|Innovative Bioresearch Coin|72320.864           |\n",
            "|Krosscoin                  |180.846             |\n",
            "|NewYorkCoin                |105.285             |\n",
            "|Veritaseum                 |61.275              |\n",
            "|MoonSwap                   |34.651              |\n",
            "+---------------------------+--------------------+\n",
            "only showing top 5 rows\n",
            "\n"
          ]
        }
      ]
    },
    {
      "cell_type": "code",
      "source": [
        "crypto_df.printSchema()"
      ],
      "metadata": {
        "id": "VWpAt-XGRBAy",
        "outputId": "06d7de18-a934-4076-8be2-f498b748b1ef",
        "colab": {
          "base_uri": "https://localhost:8080/"
        }
      },
      "execution_count": 194,
      "outputs": [
        {
          "output_type": "stream",
          "name": "stdout",
          "text": [
            "root\n",
            " |-- crypto_name: string (nullable = true)\n",
            " |-- trade_date: date (nullable = true)\n",
            " |-- volume: double (nullable = true)\n",
            " |-- price_usd: double (nullable = true)\n",
            " |-- market_cap: double (nullable = true)\n",
            " |-- capitalization_change_1_day: double (nullable = true)\n",
            " |-- USD_price_change_1_day: double (nullable = true)\n",
            " |-- ticker: string (nullable = true)\n",
            " |-- max_supply: long (nullable = true)\n",
            " |-- minable: integer (nullable = true)\n",
            " |-- platform_name: string (nullable = true)\n",
            "\n"
          ]
        }
      ]
    }
  ]
}