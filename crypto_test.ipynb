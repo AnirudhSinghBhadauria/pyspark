{
  "nbformat": 4,
  "nbformat_minor": 0,
  "metadata": {
    "colab": {
      "provenance": [],
      "authorship_tag": "ABX9TyO0K/TQqdzBVMMamApJhEwP",
      "include_colab_link": true
    },
    "kernelspec": {
      "name": "python3",
      "display_name": "Python 3"
    },
    "language_info": {
      "name": "python"
    }
  },
  "cells": [
    {
      "cell_type": "markdown",
      "metadata": {
        "id": "view-in-github",
        "colab_type": "text"
      },
      "source": [
        "<a href=\"https://colab.research.google.com/github/AnirudhSinghBhadauria/pyspark/blob/main/crypto_test.ipynb\" target=\"_parent\"><img src=\"https://colab.research.google.com/assets/colab-badge.svg\" alt=\"Open In Colab\"/></a>"
      ]
    },
    {
      "cell_type": "code",
      "source": [
        "import time\n",
        "import requests\n",
        "from concurrent.futures import ThreadPoolExecutor, as_completed\n",
        "\n",
        "import numpy as np\n",
        "import matplotlib.pyplot as plt\n",
        "\n",
        "from pyspark.sql.types import *\n",
        "from pyspark import StorageLevel\n",
        "from pyspark.sql.functions import *\n",
        "from pyspark.sql import SparkSession\n",
        "from pyspark.sql.window import Window"
      ],
      "metadata": {
        "id": "jv8-vpfzUTEJ"
      },
      "execution_count": 124,
      "outputs": []
    },
    {
      "cell_type": "code",
      "source": [
        "spark = SparkSession.builder.appName('crypto-test').getOrCreate()"
      ],
      "metadata": {
        "id": "yS0DVBt9Ujzw"
      },
      "execution_count": 37,
      "outputs": []
    },
    {
      "cell_type": "code",
      "source": [
        "crypto_df = (\n",
        "    spark.read.format(\"csv\")\n",
        "    .option(\"mode\", \"FAILFAST\")\n",
        "    .option(\"inferSchema\", \"true\")\n",
        "    .option(\"skipRows\", 0)\n",
        "    .option(\"header\", \"true\")\n",
        "    .load(\"/content/crypto_tradinds.csv\")\n",
        ")"
      ],
      "metadata": {
        "id": "h41SVP53oTkQ"
      },
      "execution_count": 119,
      "outputs": []
    },
    {
      "cell_type": "code",
      "source": [
        "crypto_df.persist(StorageLevel.MEMORY_ONLY)"
      ],
      "metadata": {
        "id": "W339JGeHySJz"
      },
      "execution_count": null,
      "outputs": []
    },
    {
      "cell_type": "code",
      "source": [
        "crypto_df.filter(\n",
        "    col(\"ticker\") == 'ETH'\n",
        ").show()"
      ],
      "metadata": {
        "id": "Fv7hyW2Vo5XU"
      },
      "execution_count": null,
      "outputs": []
    },
    {
      "cell_type": "markdown",
      "source": [
        "#### **Rolling Averages** for any crypto currency!"
      ],
      "metadata": {
        "id": "X7rSuDdExQ2u"
      }
    },
    {
      "cell_type": "code",
      "source": [
        "def rolling_average(currency, days):\n",
        "  window = (Window.orderBy(\"trade_date\").rowsBetween(-(days), 0))\n",
        "\n",
        "  rolling_average_currency = (\n",
        "      crypto_df\n",
        "      .filter(\n",
        "          col(\"ticker\") == currency\n",
        "      )\n",
        "      .withColumn(\n",
        "          \"rolling_average\",\n",
        "          round(avg(\"price_usd\").over(window), 3)\n",
        "      )\n",
        "  )\n",
        "\n",
        "  y_value = [ravg.rolling_average for ravg in rolling_average_currency.select(\"rolling_average\").collect()]\n",
        "  x_value = [tdate.trade_date for tdate in rolling_average_currency.select(\"trade_date\").collect()]\n",
        "\n",
        "  plt.plot(x_value, y_value)\n",
        "  plt.show()"
      ],
      "metadata": {
        "id": "eSIjhbSGx42W"
      },
      "execution_count": 84,
      "outputs": []
    },
    {
      "cell_type": "code",
      "source": [
        "rolling_average(\"BTC\", 7)"
      ],
      "metadata": {
        "id": "6oerJmdCO7C5"
      },
      "execution_count": null,
      "outputs": []
    },
    {
      "cell_type": "code",
      "source": [
        "(\n",
        "  crypto_df\n",
        "  .select([\"ticker\", \"crypto_name\"])\n",
        "  .distinct()\n",
        "  .sample(fraction = 0.5)\n",
        "  .show(n = crypto_df.count(), truncate = False)\n",
        ")"
      ],
      "metadata": {
        "id": "HWlBHCBnPwZg"
      },
      "execution_count": null,
      "outputs": []
    },
    {
      "cell_type": "code",
      "source": [
        "def get_price_inr(usd_price):\n",
        "    try:\n",
        "        response = requests.get(\n",
        "            \"https://anyapi.io/api/v1/exchange/convert\",\n",
        "            params={\n",
        "                'base': 'USD',\n",
        "                'to': 'INR',\n",
        "                'amount': usd_price,\n",
        "                'apiKey': '6ht7uuqsuro70e9fpp7lioi3vnie9j5sos70fd4i6j0ooloj2q4t1j'\n",
        "            },\n",
        "            timeout=10\n",
        "        )\n",
        "        response.raise_for_status()\n",
        "        return response.json().get('converted')\n",
        "    except requests.RequestException as e:\n",
        "        print(f\"Error converting price: {e}\")\n",
        "        return None\n",
        "\n",
        "def ticker():\n",
        "    coins_to_fetch = {\n",
        "        'Bitcoin', 'Ethereum', 'Solana', 'Sui',\n",
        "        'Dogecoin', 'Polygon Ecosystem Token'\n",
        "    }\n",
        "\n",
        "    try:\n",
        "        response = requests.get(\n",
        "            \"https://api.coinpaprika.com/v1/tickers/\",\n",
        "            timeout=10\n",
        "        )\n",
        "        response.raise_for_status()\n",
        "        data = response.json()\n",
        "    except requests.RequestException as e:\n",
        "        print(f\"Error fetching tickers: {e}\")\n",
        "        return []\n",
        "\n",
        "    processed_coins = []\n",
        "\n",
        "    with ThreadPoolExecutor() as executor:\n",
        "        future_to_coin = {\n",
        "            executor.submit(process_coin, coin): coin for coin in data if coin['name'] in coins_to_fetch\n",
        "        }\n",
        "\n",
        "        for future in as_completed(future_to_coin):\n",
        "            coin = future_to_coin[future]\n",
        "            try:\n",
        "                processed_coin = future.result()\n",
        "                if processed_coin:\n",
        "                    processed_coins.append(processed_coin)\n",
        "            except Exception as e:\n",
        "                print(f\"Error processing coin {coin['name']}: {e}\")\n",
        "\n",
        "    return processed_coins\n",
        "\n",
        "def process_coin(coin):\n",
        "    processed_coin = coin.copy()\n",
        "    usd_price = coin['quotes']['USD']['price']\n",
        "    processed_coin['quotes']['INR'] = get_price_inr(usd_price)\n",
        "    return processed_coin\n",
        "\n",
        "if __name__ == \"__main__\":\n",
        "    crypto_data = ticker()\n",
        "\n",
        "    crypto_extracted_df = spark.createDataFrame(crypto_data)\n",
        "    crypto_extracted_df = crypto_extracted_df.select(\n",
        "      \"name\", \"symbol\", \"rank\", \"total_supply\",\n",
        "      \"max_supply\", \"last_updated\",\n",
        "      col(\"quotes.USD.price\").alias(\"usd_price\"),\n",
        "      col(\"quotes.USD.volume_24h\").alias(\"usd_volume_24h\"),\n",
        "      col(\"quotes.USD.market_cap\").alias(\"usd_market_cap\"),\n",
        "      col(\"quotes.INR\").alias(\"inr_price\")\n",
        "    )\n",
        "\n",
        "crypto_extracted_df.show()"
      ],
      "metadata": {
        "colab": {
          "base_uri": "https://localhost:8080/"
        },
        "id": "xRpxvCOYTNIq",
        "outputId": "74598316-4db5-4859-c492-a8fe50c9d7dc"
      },
      "execution_count": 125,
      "outputs": [
        {
          "output_type": "stream",
          "name": "stdout",
          "text": [
            "+--------------------+--------------------+------+----+------------+-----------+----------+--------------------+--------------------+------------------+--------------------+--------------+---------+\n",
            "|                  id|                name|symbol|rank|total_supply| max_supply|beta_value|       first_data_at|        last_updated|         usd_price|      usd_volume_24h|usd_market_cap|inr_price|\n",
            "+--------------------+--------------------+------+----+------------+-----------+----------+--------------------+--------------------+------------------+--------------------+--------------+---------+\n",
            "|       doge-dogecoin|            Dogecoin|  DOGE|   7|147372536384|          0|   1.65786|2013-12-15T00:00:00Z|2024-12-27T09:26:37Z|0.3239337586393445|2.7067410333290668E9|          NULL|     NULL|\n",
            "|        eth-ethereum|            Ethereum|   ETH|   2|   120232214|          0|   1.12634|2015-08-07T00:00:00Z|2024-12-27T09:26:37Z|3430.2091072054745|2.097293652324530...|          NULL|     NULL|\n",
            "|         btc-bitcoin|             Bitcoin|   BTC|   1|    19801797|   21000000|  0.944193|2010-07-17T00:00:00Z|2024-12-27T09:26:37Z| 97045.99914974261|4.299597844324066E10|          NULL|     NULL|\n",
            "|pol-polygon-ecosy...|Polygon Ecosystem...|   POL|  51| 10175542422|          0|   1.21879|2023-10-25T00:00:00Z|2024-12-27T09:26:51Z| 0.499356949143255| 8.140870551091397E7|          NULL|     NULL|\n",
            "|          sol-solana|              Solana|   SOL|   6|   588682058|          0|   1.24029|2020-08-26T00:00:00Z|2024-12-27T09:26:38Z|193.83721577722216|3.1469792572876573E9|          NULL|     NULL|\n",
            "|             sui-sui|                 Sui|   SUI|  18| 10000000000|10000000000|    1.3933|2023-02-23T00:00:00Z|2024-12-27T09:26:48Z| 4.366499068332415| 9.514302459610326E8|          NULL|     NULL|\n",
            "+--------------------+--------------------+------+----+------------+-----------+----------+--------------------+--------------------+------------------+--------------------+--------------+---------+\n",
            "\n"
          ]
        }
      ]
    }
  ]
}